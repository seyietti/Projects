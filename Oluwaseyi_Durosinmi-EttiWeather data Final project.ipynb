{
 "cells": [
  {
   "cell_type": "markdown",
   "metadata": {},
   "source": [
    "# Final  Project \n",
    "# SOURCE : data.ny.gov\n",
    "#  Oluwaseyi Durosinmi-Etti \n",
    "\n",
    "# Data : This Data showcases information about MTA Subway Hourly Ridership\n",
    "\n"
   ]
  },
  {
   "cell_type": "code",
   "execution_count": 1,
   "metadata": {},
   "outputs": [],
   "source": [
    "import requests\n",
    "import pandas as pd\n",
    "import json\n",
    "from urllib import request\n",
    "from datetime import datetime\n",
    "import seaborn as sns\n",
    "import matplotlib.pyplot as plt\n",
    "import pandas as pd\n",
    "from sklearn.model_selection import train_test_split\n",
    "from sklearn.linear_model import LogisticRegression\n",
    "from sklearn.preprocessing import OneHotEncoder\n",
    "from sklearn.metrics import accuracy_score,confusion_matrix,classification_report\n",
    "from sklearn.preprocessing import LabelEncoder\n",
    "import numpy as np\n",
    "import matplotlib.pyplot as plt\n",
    "import seaborn as sns\n"
   ]
  },
  {
   "cell_type": "code",
   "execution_count": 2,
   "metadata": {},
   "outputs": [],
   "source": [
    "###We are loading the the Json api from datagov which has information about MTA subway hourly ridership from to 2020-2024\n",
    "##we only want to get data from 2021 to 2024. Note : This data is static has has about 3000000 rows.\n",
    "##issues that arosed:because this data was static alot of our insight might be skewed and also when \n",
    "##it came to the logistic regression we have limit data to make a prediction.\n",
    "\n",
    "\n",
    "MTAdailyurl =\"https://data.ny.gov/resource/wujg-7c2s.json?$limit=3000000\"\n"
   ]
  },
  {
   "cell_type": "code",
   "execution_count": 3,
   "metadata": {},
   "outputs": [],
   "source": [
    "mtadailyresponse =requests.get(MTAdailyurl)"
   ]
  },
  {
   "cell_type": "code",
   "execution_count": 4,
   "metadata": {},
   "outputs": [
    {
     "name": "stdout",
     "output_type": "stream",
     "text": [
      "{'transit_timestamp': '2022-05-16T01:00:00.000', 'transit_mode': 'subway', 'station_complex_id': '9', 'station_complex': '57 St-7 Av (N,Q,R,W)', 'borough': 'Manhattan', 'payment_method': 'metrocard', 'fare_class_category': 'Metrocard - Unlimited 30-Day', 'ridership': '16.0', 'transfers': '0.0', 'latitude': '40.764664', 'longitude': '-73.98066', 'georeference': {'type': 'Point', 'coordinates': [-73.98066, 40.764664]}, ':@computed_region_kjdx_g34t': '2095', ':@computed_region_yamh_8v7k': '749', ':@computed_region_wbg7_3whc': '742'}\n"
     ]
    }
   ],
   "source": [
    "if mtadailyresponse.status_code == 200:\n",
    "    data = mtadailyresponse.json()\n",
    "    print(data[100])  # Print first 5 records \n",
    "else:\n",
    "    print(f\"Error: {mtadailyresponse.status_code}\")"
   ]
  },
  {
   "cell_type": "code",
   "execution_count": 5,
   "metadata": {},
   "outputs": [],
   "source": [
    "Daily_ride =pd.DataFrame(data)"
   ]
  },
  {
   "cell_type": "code",
   "execution_count": 6,
   "metadata": {},
   "outputs": [
    {
     "data": {
      "text/html": [
       "<div>\n",
       "<style scoped>\n",
       "    .dataframe tbody tr th:only-of-type {\n",
       "        vertical-align: middle;\n",
       "    }\n",
       "\n",
       "    .dataframe tbody tr th {\n",
       "        vertical-align: top;\n",
       "    }\n",
       "\n",
       "    .dataframe thead th {\n",
       "        text-align: right;\n",
       "    }\n",
       "</style>\n",
       "<table border=\"1\" class=\"dataframe\">\n",
       "  <thead>\n",
       "    <tr style=\"text-align: right;\">\n",
       "      <th></th>\n",
       "      <th>transit_timestamp</th>\n",
       "      <th>transit_mode</th>\n",
       "      <th>station_complex_id</th>\n",
       "      <th>station_complex</th>\n",
       "      <th>borough</th>\n",
       "      <th>payment_method</th>\n",
       "      <th>fare_class_category</th>\n",
       "      <th>ridership</th>\n",
       "      <th>transfers</th>\n",
       "      <th>latitude</th>\n",
       "      <th>longitude</th>\n",
       "      <th>georeference</th>\n",
       "      <th>:@computed_region_kjdx_g34t</th>\n",
       "      <th>:@computed_region_yamh_8v7k</th>\n",
       "      <th>:@computed_region_wbg7_3whc</th>\n",
       "    </tr>\n",
       "  </thead>\n",
       "  <tbody>\n",
       "    <tr>\n",
       "      <th>0</th>\n",
       "      <td>2022-05-16T21:00:00.000</td>\n",
       "      <td>subway</td>\n",
       "      <td>617</td>\n",
       "      <td>Atlantic Av-Barclays Ctr (B,D,N,Q,R,2,3,4,5)</td>\n",
       "      <td>Brooklyn</td>\n",
       "      <td>metrocard</td>\n",
       "      <td>Metrocard - Full Fare</td>\n",
       "      <td>239.0</td>\n",
       "      <td>3.0</td>\n",
       "      <td>40.68446</td>\n",
       "      <td>-73.97689</td>\n",
       "      <td>{'type': 'Point', 'coordinates': [-73.97689, 4...</td>\n",
       "      <td>2090</td>\n",
       "      <td>894</td>\n",
       "      <td>895</td>\n",
       "    </tr>\n",
       "  </tbody>\n",
       "</table>\n",
       "</div>"
      ],
      "text/plain": [
       "         transit_timestamp transit_mode station_complex_id  \\\n",
       "0  2022-05-16T21:00:00.000       subway                617   \n",
       "\n",
       "                                station_complex   borough payment_method  \\\n",
       "0  Atlantic Av-Barclays Ctr (B,D,N,Q,R,2,3,4,5)  Brooklyn      metrocard   \n",
       "\n",
       "     fare_class_category ridership transfers  latitude  longitude  \\\n",
       "0  Metrocard - Full Fare     239.0       3.0  40.68446  -73.97689   \n",
       "\n",
       "                                        georeference  \\\n",
       "0  {'type': 'Point', 'coordinates': [-73.97689, 4...   \n",
       "\n",
       "  :@computed_region_kjdx_g34t :@computed_region_yamh_8v7k  \\\n",
       "0                        2090                         894   \n",
       "\n",
       "  :@computed_region_wbg7_3whc  \n",
       "0                         895  "
      ]
     },
     "execution_count": 6,
     "metadata": {},
     "output_type": "execute_result"
    }
   ],
   "source": [
    "Daily_ride.head(1)"
   ]
  },
  {
   "cell_type": "code",
   "execution_count": 7,
   "metadata": {},
   "outputs": [],
   "source": [
    "Daily_ride[\"transit_timestamp\"] = pd.to_datetime(Daily_ride[\"transit_timestamp\"]).dt.strftime('%Y-%m-%d')"
   ]
  },
  {
   "cell_type": "code",
   "execution_count": 8,
   "metadata": {},
   "outputs": [],
   "source": [
    "Daily_ride['latitude']= pd.to_numeric(Daily_ride['latitude'])"
   ]
  },
  {
   "cell_type": "code",
   "execution_count": 9,
   "metadata": {},
   "outputs": [],
   "source": [
    "Daily_ride['longitude']= pd.to_numeric(Daily_ride['longitude'])"
   ]
  },
  {
   "cell_type": "code",
   "execution_count": 10,
   "metadata": {},
   "outputs": [
    {
     "data": {
      "text/html": [
       "<div>\n",
       "<style scoped>\n",
       "    .dataframe tbody tr th:only-of-type {\n",
       "        vertical-align: middle;\n",
       "    }\n",
       "\n",
       "    .dataframe tbody tr th {\n",
       "        vertical-align: top;\n",
       "    }\n",
       "\n",
       "    .dataframe thead th {\n",
       "        text-align: right;\n",
       "    }\n",
       "</style>\n",
       "<table border=\"1\" class=\"dataframe\">\n",
       "  <thead>\n",
       "    <tr style=\"text-align: right;\">\n",
       "      <th></th>\n",
       "      <th>transit_timestamp</th>\n",
       "      <th>transit_mode</th>\n",
       "      <th>station_complex_id</th>\n",
       "      <th>station_complex</th>\n",
       "      <th>borough</th>\n",
       "      <th>payment_method</th>\n",
       "      <th>fare_class_category</th>\n",
       "      <th>ridership</th>\n",
       "      <th>transfers</th>\n",
       "      <th>latitude</th>\n",
       "      <th>longitude</th>\n",
       "      <th>georeference</th>\n",
       "      <th>:@computed_region_kjdx_g34t</th>\n",
       "      <th>:@computed_region_yamh_8v7k</th>\n",
       "      <th>:@computed_region_wbg7_3whc</th>\n",
       "    </tr>\n",
       "  </thead>\n",
       "  <tbody>\n",
       "    <tr>\n",
       "      <th>0</th>\n",
       "      <td>2022-05-16</td>\n",
       "      <td>subway</td>\n",
       "      <td>617</td>\n",
       "      <td>Atlantic Av-Barclays Ctr (B,D,N,Q,R,2,3,4,5)</td>\n",
       "      <td>Brooklyn</td>\n",
       "      <td>metrocard</td>\n",
       "      <td>Metrocard - Full Fare</td>\n",
       "      <td>239.0</td>\n",
       "      <td>3.0</td>\n",
       "      <td>40.68446</td>\n",
       "      <td>-73.97689</td>\n",
       "      <td>{'type': 'Point', 'coordinates': [-73.97689, 4...</td>\n",
       "      <td>2090</td>\n",
       "      <td>894</td>\n",
       "      <td>895</td>\n",
       "    </tr>\n",
       "  </tbody>\n",
       "</table>\n",
       "</div>"
      ],
      "text/plain": [
       "  transit_timestamp transit_mode station_complex_id  \\\n",
       "0        2022-05-16       subway                617   \n",
       "\n",
       "                                station_complex   borough payment_method  \\\n",
       "0  Atlantic Av-Barclays Ctr (B,D,N,Q,R,2,3,4,5)  Brooklyn      metrocard   \n",
       "\n",
       "     fare_class_category ridership transfers  latitude  longitude  \\\n",
       "0  Metrocard - Full Fare     239.0       3.0  40.68446  -73.97689   \n",
       "\n",
       "                                        georeference  \\\n",
       "0  {'type': 'Point', 'coordinates': [-73.97689, 4...   \n",
       "\n",
       "  :@computed_region_kjdx_g34t :@computed_region_yamh_8v7k  \\\n",
       "0                        2090                         894   \n",
       "\n",
       "  :@computed_region_wbg7_3whc  \n",
       "0                         895  "
      ]
     },
     "execution_count": 10,
     "metadata": {},
     "output_type": "execute_result"
    }
   ],
   "source": [
    "Daily_ride.head(1)"
   ]
  },
  {
   "cell_type": "code",
   "execution_count": 11,
   "metadata": {},
   "outputs": [
    {
     "name": "stdout",
     "output_type": "stream",
     "text": [
      "<class 'pandas.core.frame.DataFrame'>\n",
      "RangeIndex: 3000000 entries, 0 to 2999999\n",
      "Data columns (total 15 columns):\n",
      " #   Column                       Dtype  \n",
      "---  ------                       -----  \n",
      " 0   transit_timestamp            object \n",
      " 1   transit_mode                 object \n",
      " 2   station_complex_id           object \n",
      " 3   station_complex              object \n",
      " 4   borough                      object \n",
      " 5   payment_method               object \n",
      " 6   fare_class_category          object \n",
      " 7   ridership                    object \n",
      " 8   transfers                    object \n",
      " 9   latitude                     float64\n",
      " 10  longitude                    float64\n",
      " 11  georeference                 object \n",
      " 12  :@computed_region_kjdx_g34t  object \n",
      " 13  :@computed_region_yamh_8v7k  object \n",
      " 14  :@computed_region_wbg7_3whc  object \n",
      "dtypes: float64(2), object(13)\n",
      "memory usage: 343.3+ MB\n"
     ]
    }
   ],
   "source": [
    "Daily_ride.info()"
   ]
  },
  {
   "cell_type": "code",
   "execution_count": 12,
   "metadata": {},
   "outputs": [
    {
     "data": {
      "text/html": [
       "<div>\n",
       "<style scoped>\n",
       "    .dataframe tbody tr th:only-of-type {\n",
       "        vertical-align: middle;\n",
       "    }\n",
       "\n",
       "    .dataframe tbody tr th {\n",
       "        vertical-align: top;\n",
       "    }\n",
       "\n",
       "    .dataframe thead th {\n",
       "        text-align: right;\n",
       "    }\n",
       "</style>\n",
       "<table border=\"1\" class=\"dataframe\">\n",
       "  <thead>\n",
       "    <tr style=\"text-align: right;\">\n",
       "      <th></th>\n",
       "      <th>transit_timestamp</th>\n",
       "      <th>transit_mode</th>\n",
       "      <th>station_complex_id</th>\n",
       "      <th>station_complex</th>\n",
       "      <th>borough</th>\n",
       "      <th>payment_method</th>\n",
       "      <th>fare_class_category</th>\n",
       "      <th>ridership</th>\n",
       "      <th>transfers</th>\n",
       "      <th>latitude</th>\n",
       "      <th>longitude</th>\n",
       "      <th>georeference</th>\n",
       "      <th>:@computed_region_kjdx_g34t</th>\n",
       "      <th>:@computed_region_yamh_8v7k</th>\n",
       "      <th>:@computed_region_wbg7_3whc</th>\n",
       "    </tr>\n",
       "  </thead>\n",
       "  <tbody>\n",
       "    <tr>\n",
       "      <th>0</th>\n",
       "      <td>2022-05-16</td>\n",
       "      <td>subway</td>\n",
       "      <td>617</td>\n",
       "      <td>Atlantic Av-Barclays Ctr (B,D,N,Q,R,2,3,4,5)</td>\n",
       "      <td>Brooklyn</td>\n",
       "      <td>metrocard</td>\n",
       "      <td>Metrocard - Full Fare</td>\n",
       "      <td>239.0</td>\n",
       "      <td>3.0</td>\n",
       "      <td>40.68446</td>\n",
       "      <td>-73.97689</td>\n",
       "      <td>{'type': 'Point', 'coordinates': [-73.97689, 4...</td>\n",
       "      <td>2090</td>\n",
       "      <td>894</td>\n",
       "      <td>895</td>\n",
       "    </tr>\n",
       "  </tbody>\n",
       "</table>\n",
       "</div>"
      ],
      "text/plain": [
       "  transit_timestamp transit_mode station_complex_id  \\\n",
       "0        2022-05-16       subway                617   \n",
       "\n",
       "                                station_complex   borough payment_method  \\\n",
       "0  Atlantic Av-Barclays Ctr (B,D,N,Q,R,2,3,4,5)  Brooklyn      metrocard   \n",
       "\n",
       "     fare_class_category ridership transfers  latitude  longitude  \\\n",
       "0  Metrocard - Full Fare     239.0       3.0  40.68446  -73.97689   \n",
       "\n",
       "                                        georeference  \\\n",
       "0  {'type': 'Point', 'coordinates': [-73.97689, 4...   \n",
       "\n",
       "  :@computed_region_kjdx_g34t :@computed_region_yamh_8v7k  \\\n",
       "0                        2090                         894   \n",
       "\n",
       "  :@computed_region_wbg7_3whc  \n",
       "0                         895  "
      ]
     },
     "execution_count": 12,
     "metadata": {},
     "output_type": "execute_result"
    }
   ],
   "source": [
    "Daily_ride.head(1)"
   ]
  },
  {
   "cell_type": "code",
   "execution_count": 13,
   "metadata": {},
   "outputs": [
    {
     "name": "stdout",
     "output_type": "stream",
     "text": [
      "         date    borough  rain_status\n",
      "0  2020-01-01  Manhattan  Not Raining\n",
      "1  2020-01-02  Manhattan  Not Raining\n",
      "2  2020-01-03  Manhattan        Rainy\n",
      "3  2020-01-04  Manhattan        Rainy\n",
      "4  2020-01-05  Manhattan        Rainy\n"
     ]
    }
   ],
   "source": [
    "import requests\n",
    "import pandas as pd\n",
    "from datetime import datetime\n",
    "\n",
    "# Map boroughs to coordinates (latitude, longitude)\n",
    "borough_coordinates = {\n",
    "    \"Manhattan\": (40.7831, -73.9712),\n",
    "    \"Brooklyn\": (40.6782, -73.9442),\n",
    "    \"Queens\": (40.7282, -73.7949),\n",
    "    \"Bronx\": (40.8448, -73.8648),\n",
    "    \"Staten Island\": (40.5795, -74.1502)\n",
    "}\n",
    "\n",
    "# Fetch weather data for given boroughs and year range\n",
    "def get_weather_data_for_boroughs(boroughs, start_year=2020, end_year=2024):\n",
    "    all_data = []\n",
    "    weather_url = \"https://archive-api.open-meteo.com/v1/archive\"\n",
    "\n",
    "    for borough in boroughs:\n",
    "        latitude, longitude = borough_coordinates[borough]\n",
    "        \n",
    "        for year in range(start_year, end_year + 1):\n",
    "            params = {\n",
    "                \"latitude\": latitude,\n",
    "                \"longitude\": longitude,\n",
    "                \"start_date\": f\"{year}-01-01\",\n",
    "                \"end_date\": f\"{year}-12-31\",\n",
    "                \"daily\": \"precipitation_sum\",\n",
    "                \"timezone\": \"auto\"    \n",
    "            }\n",
    "\n",
    "            response = requests.get(weather_url, params=params)\n",
    "            if response.status_code == 200:\n",
    "                data = response.json()\n",
    "                dates = data[\"daily\"][\"time\"]\n",
    "                precipitation = data[\"daily\"][\"precipitation_sum\"]\n",
    "\n",
    "                for date, precip in zip(dates, precipitation):\n",
    "                    all_data.append({\n",
    "                        \"date\": date,\n",
    "                        \"borough\": borough,\n",
    "                        \"rain_status\": \"Rainy\" if precip > 0 else \"Not Raining\"\n",
    "                    })\n",
    "            else:\n",
    "                print(f\"Failed to fetch data for {borough} in {year}\")\n",
    "                continue\n",
    "\n",
    "    return pd.DataFrame(all_data)\n",
    "\n",
    "# Example usage\n",
    "boroughs = [\"Manhattan\", \"Brooklyn\", \"Queens\", \"Bronx\", \"Staten Island\"]\n",
    "weather_df = get_weather_data_for_boroughs(boroughs)\n",
    "print(weather_df.head())\n"
   ]
  },
  {
   "cell_type": "code",
   "execution_count": 14,
   "metadata": {},
   "outputs": [
    {
     "data": {
      "text/html": [
       "<div>\n",
       "<style scoped>\n",
       "    .dataframe tbody tr th:only-of-type {\n",
       "        vertical-align: middle;\n",
       "    }\n",
       "\n",
       "    .dataframe tbody tr th {\n",
       "        vertical-align: top;\n",
       "    }\n",
       "\n",
       "    .dataframe thead th {\n",
       "        text-align: right;\n",
       "    }\n",
       "</style>\n",
       "<table border=\"1\" class=\"dataframe\">\n",
       "  <thead>\n",
       "    <tr style=\"text-align: right;\">\n",
       "      <th></th>\n",
       "      <th>date</th>\n",
       "      <th>borough</th>\n",
       "      <th>rain_status</th>\n",
       "    </tr>\n",
       "  </thead>\n",
       "  <tbody>\n",
       "    <tr>\n",
       "      <th>0</th>\n",
       "      <td>2020-01-01</td>\n",
       "      <td>Manhattan</td>\n",
       "      <td>Not Raining</td>\n",
       "    </tr>\n",
       "  </tbody>\n",
       "</table>\n",
       "</div>"
      ],
      "text/plain": [
       "         date    borough  rain_status\n",
       "0  2020-01-01  Manhattan  Not Raining"
      ]
     },
     "execution_count": 14,
     "metadata": {},
     "output_type": "execute_result"
    }
   ],
   "source": [
    "weather_df.head(1)"
   ]
  },
  {
   "cell_type": "code",
   "execution_count": 15,
   "metadata": {},
   "outputs": [],
   "source": [
    "Daily_ride_with_rainstatus =pd.merge(Daily_ride,weather_df,left_on =['transit_timestamp','borough'],right_on =['date','borough'],how ='left')"
   ]
  },
  {
   "cell_type": "code",
   "execution_count": 16,
   "metadata": {},
   "outputs": [
    {
     "data": {
      "text/html": [
       "<div>\n",
       "<style scoped>\n",
       "    .dataframe tbody tr th:only-of-type {\n",
       "        vertical-align: middle;\n",
       "    }\n",
       "\n",
       "    .dataframe tbody tr th {\n",
       "        vertical-align: top;\n",
       "    }\n",
       "\n",
       "    .dataframe thead th {\n",
       "        text-align: right;\n",
       "    }\n",
       "</style>\n",
       "<table border=\"1\" class=\"dataframe\">\n",
       "  <thead>\n",
       "    <tr style=\"text-align: right;\">\n",
       "      <th></th>\n",
       "      <th>transit_timestamp</th>\n",
       "      <th>transit_mode</th>\n",
       "      <th>station_complex_id</th>\n",
       "      <th>station_complex</th>\n",
       "      <th>borough</th>\n",
       "      <th>payment_method</th>\n",
       "      <th>fare_class_category</th>\n",
       "      <th>ridership</th>\n",
       "      <th>transfers</th>\n",
       "      <th>latitude</th>\n",
       "      <th>longitude</th>\n",
       "      <th>georeference</th>\n",
       "      <th>:@computed_region_kjdx_g34t</th>\n",
       "      <th>:@computed_region_yamh_8v7k</th>\n",
       "      <th>:@computed_region_wbg7_3whc</th>\n",
       "      <th>date</th>\n",
       "      <th>rain_status</th>\n",
       "    </tr>\n",
       "  </thead>\n",
       "  <tbody>\n",
       "    <tr>\n",
       "      <th>0</th>\n",
       "      <td>2022-05-16</td>\n",
       "      <td>subway</td>\n",
       "      <td>617</td>\n",
       "      <td>Atlantic Av-Barclays Ctr (B,D,N,Q,R,2,3,4,5)</td>\n",
       "      <td>Brooklyn</td>\n",
       "      <td>metrocard</td>\n",
       "      <td>Metrocard - Full Fare</td>\n",
       "      <td>239.0</td>\n",
       "      <td>3.0</td>\n",
       "      <td>40.68446</td>\n",
       "      <td>-73.97689</td>\n",
       "      <td>{'type': 'Point', 'coordinates': [-73.97689, 4...</td>\n",
       "      <td>2090</td>\n",
       "      <td>894</td>\n",
       "      <td>895</td>\n",
       "      <td>2022-05-16</td>\n",
       "      <td>Rainy</td>\n",
       "    </tr>\n",
       "  </tbody>\n",
       "</table>\n",
       "</div>"
      ],
      "text/plain": [
       "  transit_timestamp transit_mode station_complex_id  \\\n",
       "0        2022-05-16       subway                617   \n",
       "\n",
       "                                station_complex   borough payment_method  \\\n",
       "0  Atlantic Av-Barclays Ctr (B,D,N,Q,R,2,3,4,5)  Brooklyn      metrocard   \n",
       "\n",
       "     fare_class_category ridership transfers  latitude  longitude  \\\n",
       "0  Metrocard - Full Fare     239.0       3.0  40.68446  -73.97689   \n",
       "\n",
       "                                        georeference  \\\n",
       "0  {'type': 'Point', 'coordinates': [-73.97689, 4...   \n",
       "\n",
       "  :@computed_region_kjdx_g34t :@computed_region_yamh_8v7k  \\\n",
       "0                        2090                         894   \n",
       "\n",
       "  :@computed_region_wbg7_3whc        date rain_status  \n",
       "0                         895  2022-05-16       Rainy  "
      ]
     },
     "execution_count": 16,
     "metadata": {},
     "output_type": "execute_result"
    }
   ],
   "source": [
    "Daily_ride_with_rainstatus.head(1)"
   ]
  },
  {
   "cell_type": "code",
   "execution_count": 17,
   "metadata": {},
   "outputs": [],
   "source": [
    "Daily_ride_with_rainstatus= Daily_ride_with_rainstatus[['transit_timestamp','station_complex_id','station_complex','borough',\n",
    "                                                       'payment_method','fare_class_category','ridership','transfers','latitude'\n",
    "                                                       ,'longitude','rain_status']]"
   ]
  },
  {
   "cell_type": "code",
   "execution_count": 18,
   "metadata": {},
   "outputs": [],
   "source": [
    "###now we are going to do some categorical analysis,\n",
    "\n",
    "Daily_ride_with_rainstatus['rain_status'] =Daily_ride_with_rainstatus['rain_status'].astype('category')"
   ]
  },
  {
   "cell_type": "code",
   "execution_count": 19,
   "metadata": {},
   "outputs": [],
   "source": [
    "def convert_numeric_columns(df):\n",
    "  \n",
    "    for col in df.columns:\n",
    "        df[col] = pd.to_numeric(df[col], errors='ignore')  # Ignores non-numeric columns\n",
    "    return df\n",
    "\n",
    "#Apply function to your DataFrame\n",
    "Daily_ride_with_rainstatus = convert_numeric_columns(Daily_ride_with_rainstatus)\n"
   ]
  },
  {
   "cell_type": "code",
   "execution_count": 20,
   "metadata": {},
   "outputs": [],
   "source": [
    "rideshipbydates =Daily_ride_with_rainstatus.groupby('transit_timestamp')['ridership'].mean()"
   ]
  },
  {
   "cell_type": "code",
   "execution_count": 21,
   "metadata": {},
   "outputs": [
    {
     "data": {
      "image/png": "[encoded data removed]",
      "text/plain": [
       "<Figure size 720x432 with 1 Axes>"
      ]
     },
     "metadata": {
      "needs_background": "light"
     },
     "output_type": "display_data"
    }
   ],
   "source": [
    "rideshipbydates.plot(kind='line',figsize =(10,6))\n",
    "plt.title('Ridership by Timestamp')\n",
    "plt.xlabel('timestamp')\n",
    "plt.ylabel('total_ridership')\n",
    "plt.show()"
   ]
  },
  {
   "cell_type": "code",
   "execution_count": 22,
   "metadata": {},
   "outputs": [
    {
     "data": {
      "text/plain": [
       "'\\nThis time series graph illustrates subway ridership trends over time, \\nidentifying patterns such as seasonal fluctuations and changes during specific events. \\nThe analysis reveals a decline in ridership on days closer to holiday periods and weekends, \\nsuggesting a consistent trend in travel behavior.\\n\\n\\n'"
      ]
     },
     "execution_count": 22,
     "metadata": {},
     "output_type": "execute_result"
    }
   ],
   "source": [
    "\"\"\"\n",
    "This time series graph illustrates subway ridership trends over time, \n",
    "identifying patterns such as seasonal fluctuations and changes during specific events. \n",
    "The analysis reveals a decline in ridership on days closer to holiday periods and weekends, \n",
    "suggesting a consistent trend in travel behavior.\n",
    "\n",
    "\n",
    "\"\"\""
   ]
  },
  {
   "cell_type": "code",
   "execution_count": 23,
   "metadata": {},
   "outputs": [],
   "source": [
    "ridershipbydates_borough =Daily_ride_with_rainstatus.groupby(['borough'])['ridership'].mean()"
   ]
  },
  {
   "cell_type": "code",
   "execution_count": 24,
   "metadata": {},
   "outputs": [
    {
     "data": {
      "image/png": "[encoded data removed]",
      "text/plain": [
       "<Figure size 864x432 with 1 Axes>"
      ]
     },
     "metadata": {
      "needs_background": "light"
     },
     "output_type": "display_data"
    }
   ],
   "source": [
    "# Convert to DataFrame\n",
    "ridershipbydates_borough  # Make boroughs separate columns\n",
    "\n",
    "# Now plot\n",
    "ridershipbydates_borough.plot(kind='bar', figsize=(12, 6), color='lightgreen')\n",
    "\n",
    "plt.title('Average Ridership by Borough and Date')\n",
    "plt.xlabel('Date')\n",
    "plt.ylabel('Average Ridership')\n",
    "plt.xticks(rotation=45)\n",
    "plt.legend(title='Borough')\n",
    "plt.show()"
   ]
  },
  {
   "cell_type": "code",
   "execution_count": 25,
   "metadata": {},
   "outputs": [
    {
     "name": "stdout",
     "output_type": "stream",
     "text": [
      "borough\n",
      "Bronx            11238362.0\n",
      "Brooklyn         30093288.0\n",
      "Manhattan        69873671.0\n",
      "Queens           20460543.0\n",
      "Staten Island      273120.0\n",
      "Name: ridership, dtype: float64\n"
     ]
    }
   ],
   "source": [
    "ridership_sum = Daily_ride_with_rainstatus.groupby('borough')['ridership'].sum()\n",
    "print(ridership_sum)\n"
   ]
  },
  {
   "cell_type": "code",
   "execution_count": 26,
   "metadata": {},
   "outputs": [
    {
     "data": {
      "image/png": "[encoded data removed]",
      "text/plain": [
       "<Figure size 720x432 with 1 Axes>"
      ]
     },
     "metadata": {
      "needs_background": "light"
     },
     "output_type": "display_data"
    }
   ],
   "source": [
    "plt.figure(figsize=(10, 6))\n",
    "sns.barplot(x=ridership_sum.index, y=ridership_sum.values, palette='coolwarm')\n",
    "plt.xlabel(\"Borough\")\n",
    "plt.ylabel(\"Total Ridership\")\n",
    "plt.title(\"Total Ridership by Borough\")\n",
    "plt.xticks(rotation=45)  # Rotate labels for better readability\n",
    "plt.show()"
   ]
  },
  {
   "cell_type": "code",
   "execution_count": 27,
   "metadata": {},
   "outputs": [
    {
     "name": "stdout",
     "output_type": "stream",
     "text": [
      "                                     transit_timestamp station_complex_id  \\\n",
      "transit_timestamp station_complex_id                                        \n",
      "2020-08-11        201                       2020-08-11                201   \n",
      "2021-09-17        1                         2021-09-17                  1   \n",
      "                  10                        2021-09-17                 10   \n",
      "                  100                       2021-09-17                100   \n",
      "                  101                       2021-09-17                101   \n",
      "\n",
      "                                     rain_status  \n",
      "transit_timestamp station_complex_id              \n",
      "2020-08-11        201                      Rainy  \n",
      "2021-09-17        1                        Rainy  \n",
      "                  10                       Rainy  \n",
      "                  100                      Rainy  \n",
      "                  101                      Rainy  \n"
     ]
    }
   ],
   "source": [
    "aggs_rules = {\n",
    "    'transit_timestamp': 'first',\n",
    "    'borough': 'first',\n",
    "    'payment_method': 'first',\n",
    "    'fare_class_category': 'first',\n",
    "    'ridership': 'sum',\n",
    "    'transfers': 'first',\n",
    "    'latitude': 'first',\n",
    "    'longitude': 'first',\n",
    "    'station_complex_id':'first',\n",
    "    'rain_status': lambda x: x.mode().iloc[0] if not x.mode().empty else None,  # Use most common value\n",
    "}\n",
    " \n",
    "# Perform aggregation\n",
    "Weather_combined = Daily_ride_with_rainstatus.groupby(['transit_timestamp', 'station_complex_id']).agg(aggs_rules)\n",
    " \n",
    "# Drop any extra transit_timestamp column, if exists, after aggregation\n",
    "Weather_combined = Weather_combined.loc[:, ~Weather_combined.columns.duplicated()]\n",
    " \n",
    "# Display the relevant columns\n",
    "print(Weather_combined[['transit_timestamp', 'station_complex_id', 'rain_status']].head())"
   ]
  },
  {
   "cell_type": "code",
   "execution_count": 28,
   "metadata": {},
   "outputs": [
    {
     "data": {
      "image/png": "[encoded data removed]",
      "text/plain": [
       "<Figure size 720x432 with 1 Axes>"
      ]
     },
     "metadata": {
      "needs_background": "light"
     },
     "output_type": "display_data"
    }
   ],
   "source": [
    "\n",
    "# Filter for Manhattan stations\n",
    "filtered_data = Weather_combined[Weather_combined['borough'] == 'Manhattan']\n",
    "\n",
    "# Select the top 20 stations by ridership\n",
    "top_3_stations = filtered_data.nlargest(30, 'ridership')\n",
    "\n",
    "# Plot\n",
    "plt.figure(figsize=(10, 6))\n",
    "sns.barplot(\n",
    "    data=top_3_stations, \n",
    "    x='station_complex_id', \n",
    "    y='ridership', \n",
    "    hue='rain_status'\n",
    ")\n",
    "\n",
    "plt.xlabel(\"Station Complex ID\")\n",
    "plt.ylabel(\"Total Ridership\")\n",
    "plt.title(\"Top 3 Ridership Stations by Station Complex ID and Rain Status (Manhattan)\")\n",
    "plt.legend(title=\"Rain Status\")\n",
    "plt.xticks(rotation=45)\n",
    "plt.show()\n"
   ]
  },
  {
   "cell_type": "code",
   "execution_count": 29,
   "metadata": {},
   "outputs": [
    {
     "data": {
      "text/plain": [
       "'In this analysis, we use a bar chart to compare the average subway ridership across different boroughs. \\nAdditionally, we examine the total ridership by borough to gain a more comprehensive understanding of ridership distribution.\\n\\nThe results indicate that Manhattan has the highest ridership, likely due to its role as the business hub of \\nNew York City and its extensive subway network. Given this, the MTA may consider allocating more funds to Manhattan,\\nas it has the largest transit network and generates the highest revenue based on average daily ridership. \\nConversely, Staten Island exhibits significantly lower subway connectivity compared to the other boroughs, \\nhighlighting a disparity in transit accessibility.\\n'"
      ]
     },
     "execution_count": 29,
     "metadata": {},
     "output_type": "execute_result"
    }
   ],
   "source": [
    "\"\"\"In this analysis, we use a bar chart to compare the average subway ridership across different boroughs. \n",
    "Additionally, we examine the total ridership by borough to gain a more comprehensive understanding of ridership distribution.\n",
    "\n",
    "The results indicate that Manhattan has the highest ridership, likely due to its role as the business hub of \n",
    "New York City and its extensive subway network. Given this, the MTA may consider allocating more funds to Manhattan,\n",
    "as it has the largest transit network and generates the highest revenue based on average daily ridership. \n",
    "Conversely, Staten Island exhibits significantly lower subway connectivity compared to the other boroughs, \n",
    "highlighting a disparity in transit accessibility.\n",
    "\"\"\"\n"
   ]
  },
  {
   "cell_type": "code",
   "execution_count": 30,
   "metadata": {},
   "outputs": [
    {
     "data": {
      "image/png": "[encoded data removed]",
      "text/plain": [
       "<Figure size 576x432 with 1 Axes>"
      ]
     },
     "metadata": {
      "needs_background": "light"
     },
     "output_type": "display_data"
    }
   ],
   "source": [
    "###now we are going to analysis Ridership by rain status\n",
    "\n",
    "plt.figure(figsize=(8,6))\n",
    "sns.barplot(x='rain_status', y='ridership', data=Daily_ride_with_rainstatus, palette='coolwarm', estimator=np.mean)\n",
    "plt.xlabel(\"Rain Status\")\n",
    "plt.ylabel(\"Average Ridership\")\n",
    "plt.title(\"Average Subway Ridership by Rain Status\")\n",
    "plt.show()\n"
   ]
  },
  {
   "cell_type": "code",
   "execution_count": 31,
   "metadata": {},
   "outputs": [
    {
     "data": {
      "text/plain": [
       "'This Analysis show that there is a increase in usage of subway '"
      ]
     },
     "execution_count": 31,
     "metadata": {},
     "output_type": "execute_result"
    }
   ],
   "source": [
    "\"\"\"This Analysis show that there is a increase in usage of subway However futher analysis has to be done to see if it is a signifact factor to ridership behavior\"\"\""
   ]
  },
  {
   "cell_type": "code",
   "execution_count": 32,
   "metadata": {},
   "outputs": [
    {
     "data": {
      "image/png": "[encoded data removed]",
      "text/plain": [
       "<Figure size 504x504 with 1 Axes>"
      ]
     },
     "metadata": {},
     "output_type": "display_data"
    }
   ],
   "source": [
    "##now we are going to see what payment method had the highest ridership.\n",
    "\n",
    "payment_ridership = Daily_ride_with_rainstatus.groupby('payment_method')['ridership'].sum()\n",
    "\n",
    "payment_ridership.plot(kind='pie', figsize=(7, 7), autopct='%1.1f%%', legend=False)\n",
    "plt.title('Ridership by Payment Method')\n",
    "plt.show()\n"
   ]
  },
  {
   "cell_type": "code",
   "execution_count": 33,
   "metadata": {},
   "outputs": [
    {
     "data": {
      "text/plain": [
       "'This pie chart illustrates that a majority of riders use the OMNY payment method, \\nwhich allows for tap-to-pay via phone. This insight can help the MTA strategically target \\nits advertising efforts and promote monthly or yearly passes to maximize adoption and revenue.'"
      ]
     },
     "execution_count": 33,
     "metadata": {},
     "output_type": "execute_result"
    }
   ],
   "source": [
    "\"\"\"This pie chart illustrates that a majority of riders use the OMNY payment method, \n",
    "which allows for tap-to-pay via phone. This insight can help the MTA strategically target \n",
    "its advertising efforts and promote monthly or yearly passes to maximize adoption and revenue.\"\"\"\n"
   ]
  },
  {
   "cell_type": "code",
   "execution_count": 53,
   "metadata": {},
   "outputs": [
    {
     "data": {
      "image/png": "[encoded data removed]",
      "text/plain": [
       "<Figure size 504x504 with 1 Axes>"
      ]
     },
     "metadata": {},
     "output_type": "display_data"
    }
   ],
   "source": [
    "payment_ridership = Daily_ride_with_rainstatus.groupby('fare_class_category')['ridership'].sum()\n",
    "\n",
    "payment_ridership.plot(kind='pie', figsize=(7, 7), autopct='%1.1f%%', legend=False)\n",
    "plt.title('Ridership by Payment Method')\n",
    "plt.show()"
   ]
  },
  {
   "cell_type": "code",
   "execution_count": 35,
   "metadata": {},
   "outputs": [],
   "source": [
    "###We are going to do Logistic Regresion \n",
    "#first we have to convert the 'rain_status column to binary'\n",
    "\n",
    "Daily_ride_with_rainstatus['rain_status_categorical']=Daily_ride_with_rainstatus['rain_status'].map({'Rainy':1,'Not Raining':0})"
   ]
  },
  {
   "cell_type": "code",
   "execution_count": 36,
   "metadata": {},
   "outputs": [
    {
     "data": {
      "text/html": [
       "<div>\n",
       "<style scoped>\n",
       "    .dataframe tbody tr th:only-of-type {\n",
       "        vertical-align: middle;\n",
       "    }\n",
       "\n",
       "    .dataframe tbody tr th {\n",
       "        vertical-align: top;\n",
       "    }\n",
       "\n",
       "    .dataframe thead th {\n",
       "        text-align: right;\n",
       "    }\n",
       "</style>\n",
       "<table border=\"1\" class=\"dataframe\">\n",
       "  <thead>\n",
       "    <tr style=\"text-align: right;\">\n",
       "      <th></th>\n",
       "      <th>transit_timestamp</th>\n",
       "      <th>station_complex_id</th>\n",
       "      <th>station_complex</th>\n",
       "      <th>borough</th>\n",
       "      <th>payment_method</th>\n",
       "      <th>fare_class_category</th>\n",
       "      <th>ridership</th>\n",
       "      <th>transfers</th>\n",
       "      <th>latitude</th>\n",
       "      <th>longitude</th>\n",
       "      <th>rain_status</th>\n",
       "      <th>rain_status_categorical</th>\n",
       "    </tr>\n",
       "  </thead>\n",
       "  <tbody>\n",
       "    <tr>\n",
       "      <th>0</th>\n",
       "      <td>2022-05-16</td>\n",
       "      <td>617</td>\n",
       "      <td>Atlantic Av-Barclays Ctr (B,D,N,Q,R,2,3,4,5)</td>\n",
       "      <td>Brooklyn</td>\n",
       "      <td>metrocard</td>\n",
       "      <td>Metrocard - Full Fare</td>\n",
       "      <td>239.0</td>\n",
       "      <td>3.0</td>\n",
       "      <td>40.68446</td>\n",
       "      <td>-73.97689</td>\n",
       "      <td>Rainy</td>\n",
       "      <td>1</td>\n",
       "    </tr>\n",
       "  </tbody>\n",
       "</table>\n",
       "</div>"
      ],
      "text/plain": [
       "  transit_timestamp station_complex_id  \\\n",
       "0        2022-05-16                617   \n",
       "\n",
       "                                station_complex   borough payment_method  \\\n",
       "0  Atlantic Av-Barclays Ctr (B,D,N,Q,R,2,3,4,5)  Brooklyn      metrocard   \n",
       "\n",
       "     fare_class_category  ridership  transfers  latitude  longitude  \\\n",
       "0  Metrocard - Full Fare      239.0        3.0  40.68446  -73.97689   \n",
       "\n",
       "  rain_status  rain_status_categorical  \n",
       "0       Rainy                        1  "
      ]
     },
     "execution_count": 36,
     "metadata": {},
     "output_type": "execute_result"
    }
   ],
   "source": [
    "Daily_ride_with_rainstatus.head(1)"
   ]
  },
  {
   "cell_type": "code",
   "execution_count": 37,
   "metadata": {},
   "outputs": [],
   "source": [
    "# Convert 'ridership' to numeric and classify as high (1) or low (0) based on the median\n",
    "Daily_ride_with_rainstatus['ridership']=pd.to_numeric(Daily_ride_with_rainstatus['ridership'], errors='coerce')"
   ]
  },
  {
   "cell_type": "code",
   "execution_count": 38,
   "metadata": {},
   "outputs": [],
   "source": [
    "##We need to define a high and low ridership mean to turn the ridership into catergorical\n",
    "##here we defined median_ridership using the median ridership from the Dataframe\n",
    "\n",
    "median_ridership = Daily_ride_with_rainstatus['ridership'].median()"
   ]
  },
  {
   "cell_type": "code",
   "execution_count": 39,
   "metadata": {},
   "outputs": [],
   "source": [
    "##this median approach creats a natural split point\n",
    "\n",
    "Daily_ride_with_rainstatus['high_ridership'] = (Daily_ride_with_rainstatus['ridership'] >= median_ridership).astype(int)\n"
   ]
  },
  {
   "cell_type": "code",
   "execution_count": 40,
   "metadata": {},
   "outputs": [],
   "source": [
    "##Drop mssing values\n",
    "\n",
    "Daily_ride_with_rainstatus =Daily_ride_with_rainstatus.dropna(subset=['rain_status','high_ridership'])"
   ]
  },
  {
   "cell_type": "code",
   "execution_count": 41,
   "metadata": {},
   "outputs": [],
   "source": [
    "X = Daily_ride_with_rainstatus[[\"rain_status_categorical\"]]\n",
    "y = Daily_ride_with_rainstatus[\"high_ridership\"]"
   ]
  },
  {
   "cell_type": "code",
   "execution_count": 42,
   "metadata": {},
   "outputs": [],
   "source": [
    "##Now we split the data into traiining and testing set (using 60-40split)\n",
    "X_train, X_test, y_train, y_test = train_test_split(X, y, test_size=0.2, random_state=42)\n"
   ]
  },
  {
   "cell_type": "code",
   "execution_count": 43,
   "metadata": {},
   "outputs": [
    {
     "data": {
      "text/plain": [
       "LogisticRegression()"
      ]
     },
     "execution_count": 43,
     "metadata": {},
     "output_type": "execute_result"
    }
   ],
   "source": [
    "#now e are training the logistic regression\n",
    "model = LogisticRegression()\n",
    "model.fit(X_train,y_train)"
   ]
  },
  {
   "cell_type": "code",
   "execution_count": 44,
   "metadata": {},
   "outputs": [],
   "source": [
    "##We thest our model using the test data\n",
    "y_pred =model.predict(X_test)"
   ]
  },
  {
   "cell_type": "code",
   "execution_count": 45,
   "metadata": {},
   "outputs": [
    {
     "name": "stderr",
     "output_type": "stream",
     "text": [
      "/opt/anaconda3/lib/python3.8/site-packages/sklearn/metrics/_classification.py:1221: UndefinedMetricWarning: Precision and F-score are ill-defined and being set to 0.0 in labels with no predicted samples. Use `zero_division` parameter to control this behavior.\n",
      "  _warn_prf(average, modifier, msg_start, len(result))\n"
     ]
    }
   ],
   "source": [
    "# Evaluate model performance\n",
    "accuracy = accuracy_score(y_test, y_pred)\n",
    "conf_matrix = confusion_matrix(y_test, y_pred)\n",
    "class_report = classification_report(y_test, y_pred)"
   ]
  },
  {
   "cell_type": "code",
   "execution_count": 46,
   "metadata": {},
   "outputs": [
    {
     "name": "stdout",
     "output_type": "stream",
     "text": [
      "Accuracy: 0.5156\n",
      "Confusion Matrix:\n",
      " [[     0 290647]\n",
      " [     0 309353]]\n",
      "Classification Report:\n",
      "               precision    recall  f1-score   support\n",
      "\n",
      "           0       0.00      0.00      0.00    290647\n",
      "           1       0.52      1.00      0.68    309353\n",
      "\n",
      "    accuracy                           0.52    600000\n",
      "   macro avg       0.26      0.50      0.34    600000\n",
      "weighted avg       0.27      0.52      0.35    600000\n",
      "\n"
     ]
    }
   ],
   "source": [
    "print(f\"Accuracy: {accuracy:.4f}\")\n",
    "print(\"Confusion Matrix:\\n\", conf_matrix)\n",
    "print(\"Classification Report:\\n\", class_report)"
   ]
  },
  {
   "cell_type": "code",
   "execution_count": 47,
   "metadata": {},
   "outputs": [
    {
     "data": {
      "text/plain": [
       "'\\nBased on the Accuracy being 50% which is low , we can say the model correctly predicts \\nhigh\\\\/low ridership about half the time.\\n\\n##From the confusion Matrix:\\nModel predicts False Postitives: high ridership but actual was low (253954)and false Negatives: \\n\\nBecause of limited time we were unable to make the accuracy higher by using feature engineering :\\nby adding other data factors\\n'"
      ]
     },
     "execution_count": 47,
     "metadata": {},
     "output_type": "execute_result"
    }
   ],
   "source": [
    "\"\"\"\n",
    "Based on the Accuracy being 50% which is low , we can say the model correctly predicts \n",
    "high\\/low ridership about half the time.\n",
    "\n",
    "##From the confusion Matrix:\n",
    "Model predicts False Postitives: high ridership but actual was low (253954)and false Negatives: \n",
    "\n",
    "Because of limited time we were unable to make the accuracy higher by using feature engineering :\n",
    "by adding other data factors\n",
    "\"\"\""
   ]
  },
  {
   "cell_type": "code",
   "execution_count": 48,
   "metadata": {},
   "outputs": [
    {
     "data": {
      "text/html": [
       "<div style=\"width:100%;\"><div style=\"position:relative;width:100%;height:0;padding-bottom:60%;\"><span style=\"color:#565656\">Make this Notebook Trusted to load map: File -> Trust Notebook</span><iframe srcdoc=\"&lt;!DOCTYPE html&gt;\n",
       "&lt;html&gt;\n",
       "&lt;head&gt;\n",
       "    \n",
       "    &lt;meta http-equiv=&quot;content-type&quot; content=&quot;text/html; charset=UTF-8&quot; /&gt;\n",
       "    \n",
       "        &lt;script&gt;\n",
       "            L_NO_TOUCH = false;\n",
       "            L_DISABLE_3D = false;\n",
       "        &lt;/script&gt;\n",
       "    \n",
       "    &lt;style&gt;html, body {width: 100%;height: 100%;margin: 0;padding: 0;}&lt;/style&gt;\n",
       "    &lt;style&gt;#map {position:absolute;top:0;bottom:0;right:0;left:0;}&lt;/style&gt;\n",
       "    &lt;script src=&quot;https://cdn.jsdelivr.net/npm/leaflet@1.9.3/dist/leaflet.js&quot;&gt;&lt;/script&gt;\n",
       "    &lt;script src=&quot;https://code.jquery.com/jquery-1.12.4.min.js&quot;&gt;&lt;/script&gt;\n",
       "    &lt;script src=&quot;https://cdn.jsdelivr.net/npm/bootstrap@5.2.2/dist/js/bootstrap.bundle.min.js&quot;&gt;&lt;/script&gt;\n",
       "    &lt;script src=&quot;https://cdnjs.cloudflare.com/ajax/libs/Leaflet.awesome-markers/2.0.2/leaflet.awesome-markers.js&quot;&gt;&lt;/script&gt;\n",
       "    &lt;link rel=&quot;stylesheet&quot; href=&quot;https://cdn.jsdelivr.net/npm/leaflet@1.9.3/dist/leaflet.css&quot;/&gt;\n",
       "    &lt;link rel=&quot;stylesheet&quot; href=&quot;https://cdn.jsdelivr.net/npm/bootstrap@5.2.2/dist/css/bootstrap.min.css&quot;/&gt;\n",
       "    &lt;link rel=&quot;stylesheet&quot; href=&quot;https://netdna.bootstrapcdn.com/bootstrap/3.0.0/css/bootstrap.min.css&quot;/&gt;\n",
       "    &lt;link rel=&quot;stylesheet&quot; href=&quot;https://cdn.jsdelivr.net/npm/@fortawesome/fontawesome-free@6.2.0/css/all.min.css&quot;/&gt;\n",
       "    &lt;link rel=&quot;stylesheet&quot; href=&quot;https://cdnjs.cloudflare.com/ajax/libs/Leaflet.awesome-markers/2.0.2/leaflet.awesome-markers.css&quot;/&gt;\n",
       "    &lt;link rel=&quot;stylesheet&quot; href=&quot;https://cdn.jsdelivr.net/gh/python-visualization/folium/folium/templates/leaflet.awesome.rotate.min.css&quot;/&gt;\n",
       "    \n",
       "            &lt;meta name=&quot;viewport&quot; content=&quot;width=device-width,\n",
       "                initial-scale=1.0, maximum-scale=1.0, user-scalable=no&quot; /&gt;\n",
       "            &lt;style&gt;\n",
       "                #map_a3bc368f1f93164da5ef214f1bc1fbbf {\n",
       "                    position: relative;\n",
       "                    width: 100.0%;\n",
       "                    height: 100.0%;\n",
       "                    left: 0.0%;\n",
       "                    top: 0.0%;\n",
       "                }\n",
       "                .leaflet-container { font-size: 1rem; }\n",
       "            &lt;/style&gt;\n",
       "        \n",
       "&lt;/head&gt;\n",
       "&lt;body&gt;\n",
       "    \n",
       "    \n",
       "            &lt;div class=&quot;folium-map&quot; id=&quot;map_a3bc368f1f93164da5ef214f1bc1fbbf&quot; &gt;&lt;/div&gt;\n",
       "        \n",
       "&lt;/body&gt;\n",
       "&lt;script&gt;\n",
       "    \n",
       "    \n",
       "            var map_a3bc368f1f93164da5ef214f1bc1fbbf = L.map(\n",
       "                &quot;map_a3bc368f1f93164da5ef214f1bc1fbbf&quot;,\n",
       "                {\n",
       "                    center: [40.7128, -74.006],\n",
       "                    crs: L.CRS.EPSG3857,\n",
       "                    zoom: 12,\n",
       "                    zoomControl: true,\n",
       "                    preferCanvas: false,\n",
       "                }\n",
       "            );\n",
       "\n",
       "            \n",
       "\n",
       "        \n",
       "    \n",
       "            var tile_layer_5293741c82f867cfc9b9ca1e0448be73 = L.tileLayer(\n",
       "                &quot;https://{s}.tile.openstreetmap.org/{z}/{x}/{y}.png&quot;,\n",
       "                {&quot;attribution&quot;: &quot;Data by \\u0026copy; \\u003ca target=\\&quot;_blank\\&quot; href=\\&quot;http://openstreetmap.org\\&quot;\\u003eOpenStreetMap\\u003c/a\\u003e, under \\u003ca target=\\&quot;_blank\\&quot; href=\\&quot;http://www.openstreetmap.org/copyright\\&quot;\\u003eODbL\\u003c/a\\u003e.&quot;, &quot;detectRetina&quot;: false, &quot;maxNativeZoom&quot;: 18, &quot;maxZoom&quot;: 18, &quot;minZoom&quot;: 0, &quot;noWrap&quot;: false, &quot;opacity&quot;: 1, &quot;subdomains&quot;: &quot;abc&quot;, &quot;tms&quot;: false}\n",
       "            ).addTo(map_a3bc368f1f93164da5ef214f1bc1fbbf);\n",
       "        \n",
       "    \n",
       "            var marker_ef9ac8470e18eef0ae4b8d197a839649 = L.marker(\n",
       "                [40.889248, -73.898583],\n",
       "                {}\n",
       "            ).addTo(map_a3bc368f1f93164da5ef214f1bc1fbbf);\n",
       "        \n",
       "    \n",
       "        var popup_89d9a335178e009ae05704cb11f91b7a = L.popup({&quot;maxWidth&quot;: &quot;100%&quot;});\n",
       "\n",
       "        \n",
       "            \n",
       "                var html_6d20bd9ba652beb6da6a31074aaf5f92 = $(`&lt;div id=&quot;html_6d20bd9ba652beb6da6a31074aaf5f92&quot; style=&quot;width: 100.0%; height: 100.0%;&quot;&gt;Cortlandt Park-242st&lt;/div&gt;`)[0];\n",
       "                popup_89d9a335178e009ae05704cb11f91b7a.setContent(html_6d20bd9ba652beb6da6a31074aaf5f92);\n",
       "            \n",
       "        \n",
       "\n",
       "        marker_ef9ac8470e18eef0ae4b8d197a839649.bindPopup(popup_89d9a335178e009ae05704cb11f91b7a)\n",
       "        ;\n",
       "\n",
       "        \n",
       "    \n",
       "    \n",
       "            var marker_4437798bf4867bd0b5c099bc85d06299 = L.marker(\n",
       "                [40.884667, -73.90087],\n",
       "                {}\n",
       "            ).addTo(map_a3bc368f1f93164da5ef214f1bc1fbbf);\n",
       "        \n",
       "    \n",
       "        var popup_0f53a278857359c9ea93b887e967b2b7 = L.popup({&quot;maxWidth&quot;: &quot;100%&quot;});\n",
       "\n",
       "        \n",
       "            \n",
       "                var html_cefb761251b0df93821de0286b001989 = $(`&lt;div id=&quot;html_cefb761251b0df93821de0286b001989&quot; style=&quot;width: 100.0%; height: 100.0%;&quot;&gt;238 ST&lt;/div&gt;`)[0];\n",
       "                popup_0f53a278857359c9ea93b887e967b2b7.setContent(html_cefb761251b0df93821de0286b001989);\n",
       "            \n",
       "        \n",
       "\n",
       "        marker_4437798bf4867bd0b5c099bc85d06299.bindPopup(popup_0f53a278857359c9ea93b887e967b2b7)\n",
       "        ;\n",
       "\n",
       "        \n",
       "    \n",
       "    \n",
       "            var marker_1d233ef5803d507a1c8242ab777a7798 = L.marker(\n",
       "                [40.878856, -73.904834],\n",
       "                {}\n",
       "            ).addTo(map_a3bc368f1f93164da5ef214f1bc1fbbf);\n",
       "        \n",
       "    \n",
       "        var popup_998a3ffa485f22192ca6d84f0d02ff4c = L.popup({&quot;maxWidth&quot;: &quot;100%&quot;});\n",
       "\n",
       "        \n",
       "            \n",
       "                var html_4de16c9fe55bf7427a263cb409db5709 = $(`&lt;div id=&quot;html_4de16c9fe55bf7427a263cb409db5709&quot; style=&quot;width: 100.0%; height: 100.0%;&quot;&gt;231 ST&lt;/div&gt;`)[0];\n",
       "                popup_998a3ffa485f22192ca6d84f0d02ff4c.setContent(html_4de16c9fe55bf7427a263cb409db5709);\n",
       "            \n",
       "        \n",
       "\n",
       "        marker_1d233ef5803d507a1c8242ab777a7798.bindPopup(popup_998a3ffa485f22192ca6d84f0d02ff4c)\n",
       "        ;\n",
       "\n",
       "        \n",
       "    \n",
       "    \n",
       "            var marker_d5649c66dc49fd294557448767e329f3 = L.marker(\n",
       "                [40.874561, -73.909831],\n",
       "                {}\n",
       "            ).addTo(map_a3bc368f1f93164da5ef214f1bc1fbbf);\n",
       "        \n",
       "    \n",
       "        var popup_fcd38aa4d915dffdaa5cff1d777878ca = L.popup({&quot;maxWidth&quot;: &quot;100%&quot;});\n",
       "\n",
       "        \n",
       "            \n",
       "                var html_9f09fb9c63964512c7a73ad25db1e96c = $(`&lt;div id=&quot;html_9f09fb9c63964512c7a73ad25db1e96c&quot; style=&quot;width: 100.0%; height: 100.0%;&quot;&gt;Marble Hill-225 St&lt;/div&gt;`)[0];\n",
       "                popup_fcd38aa4d915dffdaa5cff1d777878ca.setContent(html_9f09fb9c63964512c7a73ad25db1e96c);\n",
       "            \n",
       "        \n",
       "\n",
       "        marker_d5649c66dc49fd294557448767e329f3.bindPopup(popup_fcd38aa4d915dffdaa5cff1d777878ca)\n",
       "        ;\n",
       "\n",
       "        \n",
       "    \n",
       "    \n",
       "            var marker_ef59c82879e8019e5779643c596e8431 = L.marker(\n",
       "                [40.869444, -73.915279],\n",
       "                {}\n",
       "            ).addTo(map_a3bc368f1f93164da5ef214f1bc1fbbf);\n",
       "        \n",
       "    \n",
       "        var popup_28622f6ee82f55d7bcfcb9b95ffb5c5f = L.popup({&quot;maxWidth&quot;: &quot;100%&quot;});\n",
       "\n",
       "        \n",
       "            \n",
       "                var html_a14ea83fb45cd44b0ee1eca861e15c74 = $(`&lt;div id=&quot;html_a14ea83fb45cd44b0ee1eca861e15c74&quot; style=&quot;width: 100.0%; height: 100.0%;&quot;&gt;215 ST&lt;/div&gt;`)[0];\n",
       "                popup_28622f6ee82f55d7bcfcb9b95ffb5c5f.setContent(html_a14ea83fb45cd44b0ee1eca861e15c74);\n",
       "            \n",
       "        \n",
       "\n",
       "        marker_ef59c82879e8019e5779643c596e8431.bindPopup(popup_28622f6ee82f55d7bcfcb9b95ffb5c5f)\n",
       "        ;\n",
       "\n",
       "        \n",
       "    \n",
       "    \n",
       "            var marker_1a760d44b98b455e22cad0464a48ca17 = L.marker(\n",
       "                [40.864621, -73.918822],\n",
       "                {}\n",
       "            ).addTo(map_a3bc368f1f93164da5ef214f1bc1fbbf);\n",
       "        \n",
       "    \n",
       "        var popup_3311e1a2a03a7a0d9f7fc80290682da5 = L.popup({&quot;maxWidth&quot;: &quot;100%&quot;});\n",
       "\n",
       "        \n",
       "            \n",
       "                var html_2ee86ec59d21d0a8c5a829810a2ae968 = $(`&lt;div id=&quot;html_2ee86ec59d21d0a8c5a829810a2ae968&quot; style=&quot;width: 100.0%; height: 100.0%;&quot;&gt;207 ST&lt;/div&gt;`)[0];\n",
       "                popup_3311e1a2a03a7a0d9f7fc80290682da5.setContent(html_2ee86ec59d21d0a8c5a829810a2ae968);\n",
       "            \n",
       "        \n",
       "\n",
       "        marker_1a760d44b98b455e22cad0464a48ca17.bindPopup(popup_3311e1a2a03a7a0d9f7fc80290682da5)\n",
       "        ;\n",
       "\n",
       "        \n",
       "    \n",
       "    \n",
       "            var marker_af79ed7fc23d5ac5ab3f53b20411efb1 = L.marker(\n",
       "                [40.860531, -73.925536],\n",
       "                {}\n",
       "            ).addTo(map_a3bc368f1f93164da5ef214f1bc1fbbf);\n",
       "        \n",
       "    \n",
       "        var popup_2adf10f8ba6e3249029af7c993c20bc5 = L.popup({&quot;maxWidth&quot;: &quot;100%&quot;});\n",
       "\n",
       "        \n",
       "            \n",
       "                var html_e83d633a262ab24fe253b8eabed6a3d7 = $(`&lt;div id=&quot;html_e83d633a262ab24fe253b8eabed6a3d7&quot; style=&quot;width: 100.0%; height: 100.0%;&quot;&gt;Dyckman St&lt;/div&gt;`)[0];\n",
       "                popup_2adf10f8ba6e3249029af7c993c20bc5.setContent(html_e83d633a262ab24fe253b8eabed6a3d7);\n",
       "            \n",
       "        \n",
       "\n",
       "        marker_af79ed7fc23d5ac5ab3f53b20411efb1.bindPopup(popup_2adf10f8ba6e3249029af7c993c20bc5)\n",
       "        ;\n",
       "\n",
       "        \n",
       "    \n",
       "    \n",
       "            var marker_58671c60960a99ab46ada2003a9a8a51 = L.marker(\n",
       "                [40.855225, -73.929412],\n",
       "                {}\n",
       "            ).addTo(map_a3bc368f1f93164da5ef214f1bc1fbbf);\n",
       "        \n",
       "    \n",
       "        var popup_01d0f4183dfe32276c765968ed2937cb = L.popup({&quot;maxWidth&quot;: &quot;100%&quot;});\n",
       "\n",
       "        \n",
       "            \n",
       "                var html_f904e1a0f1ca1a8243cfeead56cbf973 = $(`&lt;div id=&quot;html_f904e1a0f1ca1a8243cfeead56cbf973&quot; style=&quot;width: 100.0%; height: 100.0%;&quot;&gt;191 ST&lt;/div&gt;`)[0];\n",
       "                popup_01d0f4183dfe32276c765968ed2937cb.setContent(html_f904e1a0f1ca1a8243cfeead56cbf973);\n",
       "            \n",
       "        \n",
       "\n",
       "        marker_58671c60960a99ab46ada2003a9a8a51.bindPopup(popup_01d0f4183dfe32276c765968ed2937cb)\n",
       "        ;\n",
       "\n",
       "        \n",
       "    \n",
       "    \n",
       "            var marker_8f2205e800e7153669ca3e94c0d4ccb9 = L.marker(\n",
       "                [40.849505, -73.933596],\n",
       "                {}\n",
       "            ).addTo(map_a3bc368f1f93164da5ef214f1bc1fbbf);\n",
       "        \n",
       "    \n",
       "        var popup_94c2c5d0c1da72bdb97dff77c23744f4 = L.popup({&quot;maxWidth&quot;: &quot;100%&quot;});\n",
       "\n",
       "        \n",
       "            \n",
       "                var html_ab692597d75b3b92fc33553e62571282 = $(`&lt;div id=&quot;html_ab692597d75b3b92fc33553e62571282&quot; style=&quot;width: 100.0%; height: 100.0%;&quot;&gt;181 ST&lt;/div&gt;`)[0];\n",
       "                popup_94c2c5d0c1da72bdb97dff77c23744f4.setContent(html_ab692597d75b3b92fc33553e62571282);\n",
       "            \n",
       "        \n",
       "\n",
       "        marker_8f2205e800e7153669ca3e94c0d4ccb9.bindPopup(popup_94c2c5d0c1da72bdb97dff77c23744f4)\n",
       "        ;\n",
       "\n",
       "        \n",
       "    \n",
       "    \n",
       "            var marker_b055d01ee0bc3512948cd264451e2b11 = L.marker(\n",
       "                [40.840556, -73.940133],\n",
       "                {}\n",
       "            ).addTo(map_a3bc368f1f93164da5ef214f1bc1fbbf);\n",
       "        \n",
       "    \n",
       "        var popup_52c4defc6565a695e91ceea84ef31d7f = L.popup({&quot;maxWidth&quot;: &quot;100%&quot;});\n",
       "\n",
       "        \n",
       "            \n",
       "                var html_edd7abbcbdd0806001b9353e4c6e5067 = $(`&lt;div id=&quot;html_edd7abbcbdd0806001b9353e4c6e5067&quot; style=&quot;width: 100.0%; height: 100.0%;&quot;&gt;168 St-Washington Hts&lt;/div&gt;`)[0];\n",
       "                popup_52c4defc6565a695e91ceea84ef31d7f.setContent(html_edd7abbcbdd0806001b9353e4c6e5067);\n",
       "            \n",
       "        \n",
       "\n",
       "        marker_b055d01ee0bc3512948cd264451e2b11.bindPopup(popup_52c4defc6565a695e91ceea84ef31d7f)\n",
       "        ;\n",
       "\n",
       "        \n",
       "    \n",
       "    \n",
       "            var marker_4f98f85fab15f79b1faa1adeac055251 = L.marker(\n",
       "                [40.834041, -73.94489],\n",
       "                {}\n",
       "            ).addTo(map_a3bc368f1f93164da5ef214f1bc1fbbf);\n",
       "        \n",
       "    \n",
       "        var popup_be458929dc7cd39cbd273528550266fe = L.popup({&quot;maxWidth&quot;: &quot;100%&quot;});\n",
       "\n",
       "        \n",
       "            \n",
       "                var html_370028fc8567df1f1ce33eb5665c2c2b = $(`&lt;div id=&quot;html_370028fc8567df1f1ce33eb5665c2c2b&quot; style=&quot;width: 100.0%; height: 100.0%;&quot;&gt;157 St&lt;/div&gt;`)[0];\n",
       "                popup_be458929dc7cd39cbd273528550266fe.setContent(html_370028fc8567df1f1ce33eb5665c2c2b);\n",
       "            \n",
       "        \n",
       "\n",
       "        marker_4f98f85fab15f79b1faa1adeac055251.bindPopup(popup_be458929dc7cd39cbd273528550266fe)\n",
       "        ;\n",
       "\n",
       "        \n",
       "    \n",
       "    \n",
       "            var marker_77c30fb2ff87d35a2b975b5bd04a1e57 = L.marker(\n",
       "                [40.75731, -73.986755],\n",
       "                {}\n",
       "            ).addTo(map_a3bc368f1f93164da5ef214f1bc1fbbf);\n",
       "        \n",
       "    \n",
       "        var popup_b96d9892bbe86a644961f34a8c91eea2 = L.popup({&quot;maxWidth&quot;: &quot;100%&quot;});\n",
       "\n",
       "        \n",
       "            \n",
       "                var html_17143ba3aebee18ebc91908f19e70334 = $(`&lt;div id=&quot;html_17143ba3aebee18ebc91908f19e70334&quot; style=&quot;width: 100.0%; height: 100.0%;&quot;&gt;42 St&lt;/div&gt;`)[0];\n",
       "                popup_b96d9892bbe86a644961f34a8c91eea2.setContent(html_17143ba3aebee18ebc91908f19e70334);\n",
       "            \n",
       "        \n",
       "\n",
       "        marker_77c30fb2ff87d35a2b975b5bd04a1e57.bindPopup(popup_b96d9892bbe86a644961f34a8c91eea2)\n",
       "        ;\n",
       "\n",
       "        \n",
       "    \n",
       "    \n",
       "            var marker_5e92533f0174baa2e76ec36359c2a55c = L.marker(\n",
       "                [40.77344, -73.98221],\n",
       "                {}\n",
       "            ).addTo(map_a3bc368f1f93164da5ef214f1bc1fbbf);\n",
       "        \n",
       "    \n",
       "        var popup_964ba7a230f2194c85fca59acc974cad = L.popup({&quot;maxWidth&quot;: &quot;100%&quot;});\n",
       "\n",
       "        \n",
       "            \n",
       "                var html_721e39191c8ee66b690da97e0170c84c = $(`&lt;div id=&quot;html_721e39191c8ee66b690da97e0170c84c&quot; style=&quot;width: 100.0%; height: 100.0%;&quot;&gt;Lincoln Center&lt;/div&gt;`)[0];\n",
       "                popup_964ba7a230f2194c85fca59acc974cad.setContent(html_721e39191c8ee66b690da97e0170c84c);\n",
       "            \n",
       "        \n",
       "\n",
       "        marker_5e92533f0174baa2e76ec36359c2a55c.bindPopup(popup_964ba7a230f2194c85fca59acc974cad)\n",
       "        ;\n",
       "\n",
       "        \n",
       "    \n",
       "    \n",
       "            var marker_05a8d2c1cfe83e986d5650337fe6c6d5 = L.marker(\n",
       "                [40.718315, -73.987434],\n",
       "                {}\n",
       "            ).addTo(map_a3bc368f1f93164da5ef214f1bc1fbbf);\n",
       "        \n",
       "    \n",
       "        var popup_2ec1026c36f202d2b7dffb7d705bf623 = L.popup({&quot;maxWidth&quot;: &quot;100%&quot;});\n",
       "\n",
       "        \n",
       "            \n",
       "                var html_2bedf2eae42250b271c11eb05743c8c8 = $(`&lt;div id=&quot;html_2bedf2eae42250b271c11eb05743c8c8&quot; style=&quot;width: 100.0%; height: 100.0%;&quot;&gt;Essex St&lt;/div&gt;`)[0];\n",
       "                popup_2ec1026c36f202d2b7dffb7d705bf623.setContent(html_2bedf2eae42250b271c11eb05743c8c8);\n",
       "            \n",
       "        \n",
       "\n",
       "        marker_05a8d2c1cfe83e986d5650337fe6c6d5.bindPopup(popup_2ec1026c36f202d2b7dffb7d705bf623)\n",
       "        ;\n",
       "\n",
       "        \n",
       "    \n",
       "    \n",
       "            var marker_9704149ddcdcf93c280a9bbe747b68f1 = L.marker(\n",
       "                [40.750374, -73.99106],\n",
       "                {}\n",
       "            ).addTo(map_a3bc368f1f93164da5ef214f1bc1fbbf);\n",
       "        \n",
       "    \n",
       "        var popup_8af44cf50153a7a3ec158de4b2b51638 = L.popup({&quot;maxWidth&quot;: &quot;100%&quot;});\n",
       "\n",
       "        \n",
       "            \n",
       "                var html_4565b7609ba0575e04ff4bdf438196ed = $(`&lt;div id=&quot;html_4565b7609ba0575e04ff4bdf438196ed&quot; style=&quot;width: 100.0%; height: 100.0%;&quot;&gt;Penn Station&lt;/div&gt;`)[0];\n",
       "                popup_8af44cf50153a7a3ec158de4b2b51638.setContent(html_4565b7609ba0575e04ff4bdf438196ed);\n",
       "            \n",
       "        \n",
       "\n",
       "        marker_9704149ddcdcf93c280a9bbe747b68f1.bindPopup(popup_8af44cf50153a7a3ec158de4b2b51638)\n",
       "        ;\n",
       "\n",
       "        \n",
       "    \n",
       "    \n",
       "            var marker_7546920a4ffe28bb114d7fa75b353adc = L.marker(\n",
       "                [40.86462, -73.91882],\n",
       "                {}\n",
       "            ).addTo(map_a3bc368f1f93164da5ef214f1bc1fbbf);\n",
       "        \n",
       "    \n",
       "        var popup_f2ff3addb0872be6ef5abe5552ecf05f = L.popup({&quot;maxWidth&quot;: &quot;100%&quot;});\n",
       "\n",
       "        \n",
       "            \n",
       "                var html_b3f2fcf85f88762e70e20ec8562fed6a = $(`&lt;div id=&quot;html_b3f2fcf85f88762e70e20ec8562fed6a&quot; style=&quot;width: 100.0%; height: 100.0%;&quot;&gt;207 St&lt;/div&gt;`)[0];\n",
       "                popup_f2ff3addb0872be6ef5abe5552ecf05f.setContent(html_b3f2fcf85f88762e70e20ec8562fed6a);\n",
       "            \n",
       "        \n",
       "\n",
       "        marker_7546920a4ffe28bb114d7fa75b353adc.bindPopup(popup_f2ff3addb0872be6ef5abe5552ecf05f)\n",
       "        ;\n",
       "\n",
       "        \n",
       "    \n",
       "    \n",
       "            var marker_e7a95867c9ac3ba7e24c66388e4b85b6 = L.marker(\n",
       "                [40.70722, -74.01334],\n",
       "                {}\n",
       "            ).addTo(map_a3bc368f1f93164da5ef214f1bc1fbbf);\n",
       "        \n",
       "    \n",
       "        var popup_34b73cb968f982b33be2429327d392a9 = L.popup({&quot;maxWidth&quot;: &quot;100%&quot;});\n",
       "\n",
       "        \n",
       "            \n",
       "                var html_7fd567ae05068a5db82f94e676b07e50 = $(`&lt;div id=&quot;html_7fd567ae05068a5db82f94e676b07e50&quot; style=&quot;width: 100.0%; height: 100.0%;&quot;&gt;Rector St&lt;/div&gt;`)[0];\n",
       "                popup_34b73cb968f982b33be2429327d392a9.setContent(html_7fd567ae05068a5db82f94e676b07e50);\n",
       "            \n",
       "        \n",
       "\n",
       "        marker_e7a95867c9ac3ba7e24c66388e4b85b6.bindPopup(popup_34b73cb968f982b33be2429327d392a9)\n",
       "        ;\n",
       "\n",
       "        \n",
       "    \n",
       "    \n",
       "            var marker_cd9e3720ef9539c116c7e182876c48b7 = L.marker(\n",
       "                [40.74104, -73.99787],\n",
       "                {}\n",
       "            ).addTo(map_a3bc368f1f93164da5ef214f1bc1fbbf);\n",
       "        \n",
       "    \n",
       "        var popup_6d1c65086085522a1ce906e427adcc4a = L.popup({&quot;maxWidth&quot;: &quot;100%&quot;});\n",
       "\n",
       "        \n",
       "            \n",
       "                var html_797fd8dd9f88dc2672e2f2b2467fdbd8 = $(`&lt;div id=&quot;html_797fd8dd9f88dc2672e2f2b2467fdbd8&quot; style=&quot;width: 100.0%; height: 100.0%;&quot;&gt;18 St&lt;/div&gt;`)[0];\n",
       "                popup_6d1c65086085522a1ce906e427adcc4a.setContent(html_797fd8dd9f88dc2672e2f2b2467fdbd8);\n",
       "            \n",
       "        \n",
       "\n",
       "        marker_cd9e3720ef9539c116c7e182876c48b7.bindPopup(popup_6d1c65086085522a1ce906e427adcc4a)\n",
       "        ;\n",
       "\n",
       "        \n",
       "    \n",
       "    \n",
       "            var marker_e7ffddce61652a0ef7badbc5142e8fdc = L.marker(\n",
       "                [40.781433, -73.972145],\n",
       "                {}\n",
       "            ).addTo(map_a3bc368f1f93164da5ef214f1bc1fbbf);\n",
       "        \n",
       "    \n",
       "        var popup_87b501392e2fbffe55af03b5388e091e = L.popup({&quot;maxWidth&quot;: &quot;100%&quot;});\n",
       "\n",
       "        \n",
       "            \n",
       "                var html_c2d4efd5b4f7414e1029373b847c01e1 = $(`&lt;div id=&quot;html_c2d4efd5b4f7414e1029373b847c01e1&quot; style=&quot;width: 100.0%; height: 100.0%;&quot;&gt;Natural History&lt;/div&gt;`)[0];\n",
       "                popup_87b501392e2fbffe55af03b5388e091e.setContent(html_c2d4efd5b4f7414e1029373b847c01e1);\n",
       "            \n",
       "        \n",
       "\n",
       "        marker_e7ffddce61652a0ef7badbc5142e8fdc.bindPopup(popup_87b501392e2fbffe55af03b5388e091e)\n",
       "        ;\n",
       "\n",
       "        \n",
       "    \n",
       "&lt;/script&gt;\n",
       "&lt;/html&gt;\" style=\"position:absolute;width:100%;height:100%;left:0;top:0;border:none !important;\" allowfullscreen webkitallowfullscreen mozallowfullscreen></iframe></div></div>"
      ],
      "text/plain": [
       "<folium.folium.Map at 0x7f957b2231f0>"
      ]
     },
     "execution_count": 48,
     "metadata": {},
     "output_type": "execute_result"
    }
   ],
   "source": [
    "import folium\n",
    " \n",
    "# New York City center coordinates\n",
    "nyc_coordinates = [40.7128, -74.0060]\n",
    " \n",
    "# Create a map centered on NYC\n",
    "m = folium.Map(location=nyc_coordinates, zoom_start=12)\n",
    " \n",
    "locations = [\n",
    "    {\"name\": \"Cortlandt Park-242st\", \"coords\": [40.889248, -73.898583]},\n",
    "    {\"name\": \"238 ST\", \"coords\": [40.884667, -73.90087]},\n",
    "    {\"name\": \"231 ST\", \"coords\": [40.878856, -73.904834]},\n",
    "    {\"name\": \"Marble Hill-225 St\", \"coords\": [40.874561, -73.909831]},\n",
    "    {\"name\": \"215 ST\", \"coords\": [40.869444, -73.915279]},\n",
    "    {\"name\": \"207 ST\", \"coords\": [40.864621, -73.918822]},\n",
    "    {\"name\": \"Dyckman St\", \"coords\": [40.860531, -73.925536]},\n",
    "    {\"name\": \"191 ST\", \"coords\": [40.855225, -73.929412]},\n",
    "    {\"name\": \"181 ST\", \"coords\": [40.849505, -73.933596]},\n",
    "    {\"name\": \"168 St-Washington Hts\", \"coords\": [40.840556, -73.940133]},\n",
    "    {\"name\": \"157 St\", \"coords\": [40.834041, -73.94489]},\n",
    "    {\"name\": \"42 St\", \"coords\": [40.75731, -73.986755]},\n",
    "    {\"name\": \"Lincoln Center\", \"coords\": [40.77344, -73.98221]},\n",
    "    {\"name\": \"Essex St\", \"coords\": [40.718315, -73.987434]},\n",
    "    {\"name\": \"Penn Station\", \"coords\": [40.750374, -73.99106]},\n",
    "    {\"name\": \"207 St\", \"coords\": [40.86462, -73.91882]},\n",
    "    {\"name\": \"Rector St\", \"coords\": [40.70722, -74.01334]},\n",
    "    {\"name\": \"18 St\", \"coords\": [40.74104, -73.99787]},\n",
    "    {\"name\": \"Natural History\", \"coords\": [40.781433, -73.972145]}\n",
    "]\n",
    " \n",
    "for loc in locations:\n",
    "    folium.Marker(location=loc[\"coords\"], popup=loc[\"name\"]).add_to(m)\n",
    "m"
   ]
  }
 ],
 "metadata": {
  "kernelspec": {
   "display_name": "Python 3",
   "language": "python",
   "name": "python3"
  },
  "language_info": {
   "codemirror_mode": {
    "name": "ipython",
    "version": 3
   },
   "file_extension": ".py",
   "mimetype": "text/x-python",
   "name": "python",
   "nbconvert_exporter": "python",
   "pygments_lexer": "ipython3",
   "version": "3.8.3"
  }
 },
 "nbformat": 4,
 "nbformat_minor": 4
}
