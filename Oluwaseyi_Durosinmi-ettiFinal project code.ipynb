{
 "cells": [
  {
   "cell_type": "markdown",
   "metadata": {},
   "source": [
    "# Analyzing Customer Experience Data from  Utility Company "
   ]
  },
  {
   "cell_type": "markdown",
   "metadata": {},
   "source": [
    "## Step 1: I am loading the libraries neccesary for this project\n"
   ]
  },
  {
   "cell_type": "code",
   "execution_count": 226,
   "metadata": {},
   "outputs": [
    {
     "name": "stderr",
     "output_type": "stream",
     "text": [
      "[nltk_data] Downloading package punkt to /Users/sdetti/nltk_data...\n",
      "[nltk_data]   Package punkt is already up-to-date!\n",
      "[nltk_data] Downloading package stopwords to\n",
      "[nltk_data]     /Users/sdetti/nltk_data...\n",
      "[nltk_data]   Package stopwords is already up-to-date!\n"
     ]
    },
    {
     "data": {
      "text/plain": [
       "True"
      ]
     },
     "execution_count": 226,
     "metadata": {},
     "output_type": "execute_result"
    }
   ],
   "source": [
    "import pandas as pd\n",
    "import nltk\n",
    "import re\n",
    "import nltk.corpus\n",
    "from nltk.corpus import stopwords\n",
    "from nltk import word_tokenize,NaiveBayesClassifier,classify\n",
    "from sklearn.model_selection import KFold\n",
    "from sklearn.metrics import precision_recall_curve\n",
    "from sklearn.feature_extraction.text import CountVectorizer\n",
    "from sklearn.metrics import precision_recall_fscore_support\n",
    "from sklearn.naive_bayes import MultinomialNB\n",
    "from sklearn.ensemble import RandomForestClassifier\n",
    "from wordcloud import WordCloud\n",
    "import matplotlib.pyplot as plt\n",
    "from collections import Counter\n",
    "from sklearn.metrics import confusion_matrix, ConfusionMatrixDisplay\n",
    "import matplotlib.pyplot as plt\n",
    "from nltk.sentiment import SentimentIntensityAnalyzer\n",
    "\n",
    "\n",
    "nltk.download('punkt')\n",
    "nltk.download('stopwords')\n"
   ]
  },
  {
   "cell_type": "markdown",
   "metadata": {},
   "source": [
    "## Step 2: I am reading in the data and putting it into a dataframe, additionally i am doing some data exploration\n",
    "### We are also dropping nulls and renaming the columns (feature engineering and selection)"
   ]
  },
  {
   "cell_type": "code",
   "execution_count": 227,
   "metadata": {},
   "outputs": [],
   "source": [
    "df = pd.read_csv('Customer Review Data.csv', encoding ='utf-8',delimiter=',',encoding_errors ='ignore')"
   ]
  },
  {
   "cell_type": "code",
   "execution_count": 228,
   "metadata": {},
   "outputs": [
    {
     "data": {
      "text/html": [
       "<div>\n",
       "<style scoped>\n",
       "    .dataframe tbody tr th:only-of-type {\n",
       "        vertical-align: middle;\n",
       "    }\n",
       "\n",
       "    .dataframe tbody tr th {\n",
       "        vertical-align: top;\n",
       "    }\n",
       "\n",
       "    .dataframe thead th {\n",
       "        text-align: right;\n",
       "    }\n",
       "</style>\n",
       "<table border=\"1\" class=\"dataframe\">\n",
       "  <thead>\n",
       "    <tr style=\"text-align: right;\">\n",
       "      <th></th>\n",
       "      <th>Q3 What Can Be Improved</th>\n",
       "      <th>QOS1 Overall Satisfaction With National Grid</th>\n",
       "      <th>Q3 Topic Hierarchy Level 1</th>\n",
       "      <th>Q3 Sentiment</th>\n",
       "      <th>Satisfaction WIth Field Rep</th>\n",
       "      <th>Barn</th>\n",
       "      <th>Assigned Technician</th>\n",
       "      <th>CY Month Year</th>\n",
       "      <th>End Date</th>\n",
       "      <th>Completion Date</th>\n",
       "    </tr>\n",
       "  </thead>\n",
       "  <tbody>\n",
       "    <tr>\n",
       "      <th>0</th>\n",
       "      <td>.have a smaller window of time in which the th...</td>\n",
       "      <td>NaN</td>\n",
       "      <td>Customer Service</td>\n",
       "      <td>Negative</td>\n",
       "      <td>4.0</td>\n",
       "      <td>Brentwood</td>\n",
       "      <td>LAWRENCE, PAUL</td>\n",
       "      <td>November 2024</td>\n",
       "      <td>11/17/2024 9:07:46 PM</td>\n",
       "      <td>Friday, November 8, 2024</td>\n",
       "    </tr>\n",
       "    <tr>\n",
       "      <th>1</th>\n",
       "      <td>.have a smaller window of time in which the th...</td>\n",
       "      <td>NaN</td>\n",
       "      <td>Time</td>\n",
       "      <td>Negative</td>\n",
       "      <td>4.0</td>\n",
       "      <td>Brentwood</td>\n",
       "      <td>LAWRENCE, PAUL</td>\n",
       "      <td>November 2024</td>\n",
       "      <td>11/17/2024 9:07:46 PM</td>\n",
       "      <td>Friday, November 8, 2024</td>\n",
       "    </tr>\n",
       "    <tr>\n",
       "      <th>2</th>\n",
       "      <td>1. Give me flexibility in scheduling appointme...</td>\n",
       "      <td>1.0</td>\n",
       "      <td>Customer Service</td>\n",
       "      <td>Very Negative</td>\n",
       "      <td>4.0</td>\n",
       "      <td>Hewlett</td>\n",
       "      <td>VIANA, PAUL</td>\n",
       "      <td>April 2025</td>\n",
       "      <td>4/7/2025 1:42:24 PM</td>\n",
       "      <td>Friday, April 4, 2025</td>\n",
       "    </tr>\n",
       "    <tr>\n",
       "      <th>3</th>\n",
       "      <td>1. Give me flexibility in scheduling appointme...</td>\n",
       "      <td>1.0</td>\n",
       "      <td>Disconnect/Turn Off</td>\n",
       "      <td>Very Negative</td>\n",
       "      <td>4.0</td>\n",
       "      <td>Hewlett</td>\n",
       "      <td>VIANA, PAUL</td>\n",
       "      <td>April 2025</td>\n",
       "      <td>4/7/2025 1:42:24 PM</td>\n",
       "      <td>Friday, April 4, 2025</td>\n",
       "    </tr>\n",
       "    <tr>\n",
       "      <th>4</th>\n",
       "      <td>1. Give me flexibility in scheduling appointme...</td>\n",
       "      <td>1.0</td>\n",
       "      <td>Time</td>\n",
       "      <td>Very Negative</td>\n",
       "      <td>4.0</td>\n",
       "      <td>Hewlett</td>\n",
       "      <td>VIANA, PAUL</td>\n",
       "      <td>April 2025</td>\n",
       "      <td>4/7/2025 1:42:24 PM</td>\n",
       "      <td>Friday, April 4, 2025</td>\n",
       "    </tr>\n",
       "  </tbody>\n",
       "</table>\n",
       "</div>"
      ],
      "text/plain": [
       "                             Q3 What Can Be Improved  \\\n",
       "0  .have a smaller window of time in which the th...   \n",
       "1  .have a smaller window of time in which the th...   \n",
       "2  1. Give me flexibility in scheduling appointme...   \n",
       "3  1. Give me flexibility in scheduling appointme...   \n",
       "4  1. Give me flexibility in scheduling appointme...   \n",
       "\n",
       "   QOS1 Overall Satisfaction With National Grid Q3 Topic Hierarchy Level 1  \\\n",
       "0                                           NaN           Customer Service   \n",
       "1                                           NaN                       Time   \n",
       "2                                           1.0           Customer Service   \n",
       "3                                           1.0        Disconnect/Turn Off   \n",
       "4                                           1.0                       Time   \n",
       "\n",
       "    Q3 Sentiment  Satisfaction WIth Field Rep        Barn Assigned Technician  \\\n",
       "0       Negative                          4.0   Brentwood      LAWRENCE, PAUL   \n",
       "1       Negative                          4.0   Brentwood      LAWRENCE, PAUL   \n",
       "2  Very Negative                          4.0     Hewlett         VIANA, PAUL   \n",
       "3  Very Negative                          4.0     Hewlett         VIANA, PAUL   \n",
       "4  Very Negative                          4.0     Hewlett         VIANA, PAUL   \n",
       "\n",
       "   CY Month Year               End Date           Completion Date  \n",
       "0  November 2024  11/17/2024 9:07:46 PM  Friday, November 8, 2024  \n",
       "1  November 2024  11/17/2024 9:07:46 PM  Friday, November 8, 2024  \n",
       "2     April 2025    4/7/2025 1:42:24 PM     Friday, April 4, 2025  \n",
       "3     April 2025    4/7/2025 1:42:24 PM     Friday, April 4, 2025  \n",
       "4     April 2025    4/7/2025 1:42:24 PM     Friday, April 4, 2025  "
      ]
     },
     "execution_count": 228,
     "metadata": {},
     "output_type": "execute_result"
    }
   ],
   "source": [
    "df.head(5)"
   ]
  },
  {
   "cell_type": "code",
   "execution_count": 229,
   "metadata": {},
   "outputs": [],
   "source": [
    "df =df[['Q3 What Can Be Improved','Q3 Sentiment']].dropna()\n",
    "\n",
    "df1 =df[['Q3 What Can Be Improved','Q3 Sentiment']].dropna()"
   ]
  },
  {
   "cell_type": "code",
   "execution_count": 230,
   "metadata": {},
   "outputs": [],
   "source": [
    "df.columns =['text','sentimentlabel']"
   ]
  },
  {
   "cell_type": "markdown",
   "metadata": {},
   "source": [
    "## Step 3:  we are going to preprocess data by making the token to lower case, removing space, whitelines , remove url or hyperlinks, remove punctuation, emojis"
   ]
  },
  {
   "cell_type": "code",
   "execution_count": 231,
   "metadata": {},
   "outputs": [],
   "source": [
    "##step 3 process is achieved in this function called process below\n",
    "\n",
    "def process (text_data):\n",
    "\n",
    "    text_data = text_data.lower()\n",
    "    text_data = re.sub(r\"http\\S+|www\\S+\", \"\", text_data)\n",
    "    text_data= re.sub(r\"[^a-z\\s]\", \"\", text_data)\n",
    "    text_data = re.sub(r\"\\s+\", \" \", text_data).strip()\n",
    "    return text_data\n",
    "\n"
   ]
  },
  {
   "cell_type": "code",
   "execution_count": 232,
   "metadata": {},
   "outputs": [],
   "source": [
    "df['cleaned_text'] = df['text'].apply(process) ###this applys the function process to the column text and rename it "
   ]
  },
  {
   "cell_type": "code",
   "execution_count": 233,
   "metadata": {},
   "outputs": [
    {
     "data": {
      "text/html": [
       "<div>\n",
       "<style scoped>\n",
       "    .dataframe tbody tr th:only-of-type {\n",
       "        vertical-align: middle;\n",
       "    }\n",
       "\n",
       "    .dataframe tbody tr th {\n",
       "        vertical-align: top;\n",
       "    }\n",
       "\n",
       "    .dataframe thead th {\n",
       "        text-align: right;\n",
       "    }\n",
       "</style>\n",
       "<table border=\"1\" class=\"dataframe\">\n",
       "  <thead>\n",
       "    <tr style=\"text-align: right;\">\n",
       "      <th></th>\n",
       "      <th>text</th>\n",
       "      <th>sentimentlabel</th>\n",
       "      <th>cleaned_text</th>\n",
       "    </tr>\n",
       "  </thead>\n",
       "  <tbody>\n",
       "    <tr>\n",
       "      <th>0</th>\n",
       "      <td>.have a smaller window of time in which the th...</td>\n",
       "      <td>Negative</td>\n",
       "      <td>have a smaller window of time in which the the...</td>\n",
       "    </tr>\n",
       "    <tr>\n",
       "      <th>1</th>\n",
       "      <td>.have a smaller window of time in which the th...</td>\n",
       "      <td>Negative</td>\n",
       "      <td>have a smaller window of time in which the the...</td>\n",
       "    </tr>\n",
       "    <tr>\n",
       "      <th>2</th>\n",
       "      <td>1. Give me flexibility in scheduling appointme...</td>\n",
       "      <td>Very Negative</td>\n",
       "      <td>give me flexibility in scheduling appointments...</td>\n",
       "    </tr>\n",
       "    <tr>\n",
       "      <th>3</th>\n",
       "      <td>1. Give me flexibility in scheduling appointme...</td>\n",
       "      <td>Very Negative</td>\n",
       "      <td>give me flexibility in scheduling appointments...</td>\n",
       "    </tr>\n",
       "    <tr>\n",
       "      <th>4</th>\n",
       "      <td>1. Give me flexibility in scheduling appointme...</td>\n",
       "      <td>Very Negative</td>\n",
       "      <td>give me flexibility in scheduling appointments...</td>\n",
       "    </tr>\n",
       "    <tr>\n",
       "      <th>...</th>\n",
       "      <td>...</td>\n",
       "      <td>...</td>\n",
       "      <td>...</td>\n",
       "    </tr>\n",
       "    <tr>\n",
       "      <th>4582</th>\n",
       "      <td>Zero my balance on my account because Iâm no...</td>\n",
       "      <td>Very Negative</td>\n",
       "      <td>zero my balance on my account because im not g...</td>\n",
       "    </tr>\n",
       "    <tr>\n",
       "      <th>4583</th>\n",
       "      <td>Zero my balance on my account because Iâm no...</td>\n",
       "      <td>Very Negative</td>\n",
       "      <td>zero my balance on my account because im not g...</td>\n",
       "    </tr>\n",
       "    <tr>\n",
       "      <th>4584</th>\n",
       "      <td>Zero my balance on my account because Iâm no...</td>\n",
       "      <td>Very Negative</td>\n",
       "      <td>zero my balance on my account because im not g...</td>\n",
       "    </tr>\n",
       "    <tr>\n",
       "      <th>4585</th>\n",
       "      <td>Zero my balance on my account because Iâm no...</td>\n",
       "      <td>Very Negative</td>\n",
       "      <td>zero my balance on my account because im not g...</td>\n",
       "    </tr>\n",
       "    <tr>\n",
       "      <th>4586</th>\n",
       "      <td>Zero my balance on my account because Iâm no...</td>\n",
       "      <td>Very Negative</td>\n",
       "      <td>zero my balance on my account because im not g...</td>\n",
       "    </tr>\n",
       "  </tbody>\n",
       "</table>\n",
       "<p>4558 rows × 3 columns</p>\n",
       "</div>"
      ],
      "text/plain": [
       "                                                   text sentimentlabel  \\\n",
       "0     .have a smaller window of time in which the th...       Negative   \n",
       "1     .have a smaller window of time in which the th...       Negative   \n",
       "2     1. Give me flexibility in scheduling appointme...  Very Negative   \n",
       "3     1. Give me flexibility in scheduling appointme...  Very Negative   \n",
       "4     1. Give me flexibility in scheduling appointme...  Very Negative   \n",
       "...                                                 ...            ...   \n",
       "4582  Zero my balance on my account because Iâm no...  Very Negative   \n",
       "4583  Zero my balance on my account because Iâm no...  Very Negative   \n",
       "4584  Zero my balance on my account because Iâm no...  Very Negative   \n",
       "4585  Zero my balance on my account because Iâm no...  Very Negative   \n",
       "4586  Zero my balance on my account because Iâm no...  Very Negative   \n",
       "\n",
       "                                           cleaned_text  \n",
       "0     have a smaller window of time in which the the...  \n",
       "1     have a smaller window of time in which the the...  \n",
       "2     give me flexibility in scheduling appointments...  \n",
       "3     give me flexibility in scheduling appointments...  \n",
       "4     give me flexibility in scheduling appointments...  \n",
       "...                                                 ...  \n",
       "4582  zero my balance on my account because im not g...  \n",
       "4583  zero my balance on my account because im not g...  \n",
       "4584  zero my balance on my account because im not g...  \n",
       "4585  zero my balance on my account because im not g...  \n",
       "4586  zero my balance on my account because im not g...  \n",
       "\n",
       "[4558 rows x 3 columns]"
      ]
     },
     "execution_count": 233,
     "metadata": {},
     "output_type": "execute_result"
    }
   ],
   "source": [
    "df"
   ]
  },
  {
   "cell_type": "markdown",
   "metadata": {},
   "source": [
    "## Step 4 : now we are doing some Feature extraction by introducing unigram (bag of words)"
   ]
  },
  {
   "cell_type": "code",
   "execution_count": 234,
   "metadata": {},
   "outputs": [],
   "source": [
    "#step 2: Feature Extraction\n",
    "#Unigram Bag of words\n",
    "\n",
    "vectorizer =CountVectorizer(max_features =2000)\n",
    "X = vectorizer.fit_transform(df['cleaned_text'])\n",
    "y = df['sentimentlabel']"
   ]
  },
  {
   "cell_type": "code",
   "execution_count": 235,
   "metadata": {},
   "outputs": [],
   "source": [
    "##Now we intiate the 5-Fold CRoss-Validation\n",
    "cf =KFold(n_splits =5,shuffle =True,random_state =42)\n",
    "\n",
    "##now I am creating a list to store the evaluation metric \n",
    "prec_score, reca_score, f1_sco =[],[],[]\n"
   ]
  },
  {
   "cell_type": "code",
   "execution_count": 236,
   "metadata": {},
   "outputs": [],
   "source": [
    "##I created Loop over each train-test spilt\n",
    "for train_data , test_data in cf.split(X):\n",
    "    ##Split data into training and test set\n",
    "\n",
    "    X_train, X_test =X[train_data], X[test_data]\n",
    "    y_train, y_test =y.iloc[train_data],y.iloc[test_data] ##I created this to split the labels \n",
    "\n",
    "\n",
    "    #now we train the Naive Bayes classifier\n",
    "    model = MultinomialNB()\n",
    "    \n",
    "    model.fit(X_train,y_train)\n",
    "\n",
    "    ##make prediction on the test set\n",
    "    y_predict = model.predict(X_test)\n",
    "\n",
    "    ##Evaluate precision, recall and F1-score\n",
    "\n",
    "    precision_score,recall_score,f1_score,_ = precision_recall_fscore_support(\n",
    "        y_test,y_predict, average='macro', zero_division= 0\n",
    "\n",
    "    )\n",
    "    "
   ]
  },
  {
   "cell_type": "code",
   "execution_count": 237,
   "metadata": {},
   "outputs": [],
   "source": [
    "##now we store the metrics for each fold\n",
    "prec_score.append(precision_score)\n",
    "reca_score.append(recall_score)\n",
    "f1_sco.append(f1_score)"
   ]
  },
  {
   "cell_type": "code",
   "execution_count": 238,
   "metadata": {},
   "outputs": [
    {
     "name": "stdout",
     "output_type": "stream",
     "text": [
      "Average Precision :0.832\n",
      "Average Recall:0.638\n",
      "F_1 Score :0.682\n"
     ]
    }
   ],
   "source": [
    "##now we are going to calculate and display the average metric among the 5 folds\n",
    "print(f\"Average Precision :{sum(prec_score)/len(prec_score):.3f}\")\n",
    "\n",
    "print(f\"Average Recall:{sum(reca_score)/len(reca_score):.3f}\")\n",
    "\n",
    "print(f\"F_1 Score :{sum(f1_sco)/len(f1_sco):.3f}\")"
   ]
  },
  {
   "cell_type": "markdown",
   "metadata": {},
   "source": [
    "###  Creating Graphs for the Naive Bayes model : creating a confusion matrix , and bar chart"
   ]
  },
  {
   "cell_type": "code",
   "execution_count": 239,
   "metadata": {},
   "outputs": [
    {
     "data": {
      "image/png": "[encoded data removed]",
      "text/plain": [
       "<Figure size 432x288 with 2 Axes>"
      ]
     },
     "metadata": {
      "needs_background": "light"
     },
     "output_type": "display_data"
    }
   ],
   "source": [
    "\n",
    "\n",
    "# Compute and plot confusion matrix\n",
    "cm = confusion_matrix(y_test, y_predict)\n",
    "disp = ConfusionMatrixDisplay(confusion_matrix=cm)\n",
    "disp.plot(cmap='Blues')\n",
    "plt.title(\"Naive Bayes - Confusion Matrix\")\n",
    "plt.show()"
   ]
  },
  {
   "cell_type": "code",
   "execution_count": 240,
   "metadata": {},
   "outputs": [
    {
     "data": {
      "image/png": "[encoded data removed]",
      "text/plain": [
       "<Figure size 576x360 with 1 Axes>"
      ]
     },
     "metadata": {
      "needs_background": "light"
     },
     "output_type": "display_data"
    }
   ],
   "source": [
    "# Convert predictions to DataFrame\n",
    "pred_df = pd.DataFrame({'Predicted': y_predict})\n",
    "true_df = pd.DataFrame({'True': y_test})\n",
    "\n",
    "# Bar plot for predicted vs true labels\n",
    "pred_counts = pred_df['Predicted'].value_counts().sort_index()\n",
    "true_counts = true_df['True'].value_counts().sort_index()\n",
    "\n",
    "df_counts = pd.DataFrame({\n",
    "    'True Labels': true_counts,\n",
    "    'Predicted Labels': pred_counts\n",
    "})\n",
    "\n",
    "df_counts.plot(kind='bar', figsize=(8, 5))\n",
    "plt.title(\"Naive Bayes - Prediction vs True Labels\")\n",
    "plt.xlabel(\"Class\")\n",
    "plt.ylabel(\"Count\")\n",
    "plt.xticks(rotation=0)\n",
    "plt.grid(True)\n",
    "plt.show()"
   ]
  },
  {
   "cell_type": "markdown",
   "metadata": {},
   "source": [
    "## Now we are going to try an improve the recall score using Randomforest and compare it to Naive Bayes"
   ]
  },
  {
   "cell_type": "code",
   "execution_count": 241,
   "metadata": {},
   "outputs": [],
   "source": [
    "##Now we are going to try an improve the recall score using Randomforest \n",
    "\n",
    "##now I am creating a list to store the evaluation metric \n",
    "prec_score1, reca_score1, f1_sco1 =[],[],[]\n",
    "\n",
    "#we are recretaing the loop to split and go through each fold\n",
    "##I created Loop over each train-test spilt\n",
    "\n",
    "for train_data1 , test_data1 in cf.split(X):\n",
    "    ##Split data into training and test set\n",
    "\n",
    "    X_train1, X_test1 =X[train_data1], X[test_data1]\n",
    "    y_train1, y_test1 =y.iloc[train_data1],y.iloc[test_data1] ##I created this to split the labels \n",
    "\n",
    "\n",
    "\n",
    "    model2 = RandomForestClassifier(\n",
    "        n_estimators =200,\n",
    "        max_depth =15,\n",
    "        min_samples_split =2,\n",
    "        class_weight= 'balanced',\n",
    "        random_state=42\n",
    "    )\n",
    "\n",
    "\n",
    "\n",
    "    ##now we train the random forest model\n",
    "\n",
    "    model2 =RandomForestClassifier(n_estimators=100, random_state=42)\n",
    "    model2.fit(X_train1,y_train1)\n",
    "\n",
    "  \n",
    "\n",
    "    ##make prediction on the test set\n",
    "    y_predict1 = model2.predict(X_test1)\n",
    "\n",
    "    ##Evaluate precision, recall and F1-score\n",
    "\n",
    "    precision_score1,recall_score1,f1_score1,_ = precision_recall_fscore_support(\n",
    "        y_test1,y_predict1, average='macro', zero_division= 0\n",
    "\n",
    "    )\n",
    "    \n",
    "\n"
   ]
  },
  {
   "cell_type": "code",
   "execution_count": 242,
   "metadata": {},
   "outputs": [],
   "source": [
    "prec_score1.append(precision_score)\n",
    "reca_score1.append(recall_score)\n",
    "f1_sco1.append(f1_score)"
   ]
  },
  {
   "cell_type": "code",
   "execution_count": 243,
   "metadata": {},
   "outputs": [
    {
     "name": "stdout",
     "output_type": "stream",
     "text": [
      "Average Precision :0.832\n",
      "Average Recall:0.638\n",
      "F_1 Score :0.682\n"
     ]
    }
   ],
   "source": [
    "##now we are going to calculate and display the average metric among the 5 folds\n",
    "print(f\"Average Precision :{sum(prec_score1)/len(prec_score1):.3f}\")\n",
    "\n",
    "print(f\"Average Recall:{sum(reca_score1)/len(reca_score1):.3f}\")\n",
    "\n",
    "print(f\"F_1 Score :{sum(f1_sco1)/len(f1_sco1):.3f}\")"
   ]
  },
  {
   "cell_type": "markdown",
   "metadata": {},
   "source": [
    "## Now We are going to see if there is changes after filtering stopwords with the Naive Bayes"
   ]
  },
  {
   "cell_type": "code",
   "execution_count": 244,
   "metadata": {},
   "outputs": [],
   "source": [
    "##now I MA GOING TO TRY THIS USING Stopword Filtering\n",
    "\n",
    "##now I am defining stopwords\n",
    "\n",
    "stop_words =set(stopwords.words('english'))"
   ]
  },
  {
   "cell_type": "code",
   "execution_count": 245,
   "metadata": {},
   "outputs": [],
   "source": [
    "#Now we do some text processing function\n",
    "def process_1 (text_data):\n",
    "\n",
    "    text_data = text_data.lower()\n",
    "    text_data = re.sub(r\"http\\S+|www\\S+\", \"\", text_data)\n",
    "    text_data= re.sub(r\"[^a-z\\s]\", \"\", text_data)\n",
    "    text_data = re.sub(r\"\\s+\", \" \", text_data).strip()\n",
    "    return text_data\n",
    "\n",
    "#now I am creating a function for stopwords removal\n",
    "def remove_stopwords(text):\n",
    "    tokens = word_tokenize(text)\n",
    "    return ' '.join([w for w in tokens if w.lower() not in stop_words])"
   ]
  },
  {
   "cell_type": "code",
   "execution_count": 246,
   "metadata": {},
   "outputs": [],
   "source": [
    "df1.columns =['text','sentimentlabel']"
   ]
  },
  {
   "cell_type": "code",
   "execution_count": 247,
   "metadata": {},
   "outputs": [],
   "source": [
    "df1['text_cleaned_stop_word'] = df1['text'].apply(process_1).apply(remove_stopwords)"
   ]
  },
  {
   "cell_type": "code",
   "execution_count": 248,
   "metadata": {},
   "outputs": [
    {
     "name": "stdout",
     "output_type": "stream",
     "text": [
      "                                                   text sentimentlabel  \\\n",
      "0     .have a smaller window of time in which the th...       Negative   \n",
      "1     .have a smaller window of time in which the th...       Negative   \n",
      "2     1. Give me flexibility in scheduling appointme...  Very Negative   \n",
      "3     1. Give me flexibility in scheduling appointme...  Very Negative   \n",
      "4     1. Give me flexibility in scheduling appointme...  Very Negative   \n",
      "...                                                 ...            ...   \n",
      "4582  Zero my balance on my account because Iâm no...  Very Negative   \n",
      "4583  Zero my balance on my account because Iâm no...  Very Negative   \n",
      "4584  Zero my balance on my account because Iâm no...  Very Negative   \n",
      "4585  Zero my balance on my account because Iâm no...  Very Negative   \n",
      "4586  Zero my balance on my account because Iâm no...  Very Negative   \n",
      "\n",
      "                                 text_cleaned_stop_word  \n",
      "0      smaller window time field representative arrives  \n",
      "1      smaller window time field representative arrives  \n",
      "2     give flexibility scheduling appointments wide ...  \n",
      "3     give flexibility scheduling appointments wide ...  \n",
      "4     give flexibility scheduling appointments wide ...  \n",
      "...                                                 ...  \n",
      "4582  zero balance account im gon na pay something d...  \n",
      "4583  zero balance account im gon na pay something d...  \n",
      "4584  zero balance account im gon na pay something d...  \n",
      "4585  zero balance account im gon na pay something d...  \n",
      "4586  zero balance account im gon na pay something d...  \n",
      "\n",
      "[4558 rows x 3 columns]\n"
     ]
    }
   ],
   "source": [
    "print(df1)"
   ]
  },
  {
   "cell_type": "code",
   "execution_count": 249,
   "metadata": {},
   "outputs": [],
   "source": [
    "#step 2: Feature Extraction\n",
    "#Unigram Bag of words\n",
    "\n",
    "vectorizer =CountVectorizer(max_features =2000)\n",
    "X1 = vectorizer.fit_transform(df1['text_cleaned_stop_word'])\n",
    "y1 = df1['sentimentlabel']"
   ]
  },
  {
   "cell_type": "code",
   "execution_count": 250,
   "metadata": {},
   "outputs": [],
   "source": [
    "##Now we intiate the 5-Fold CRoss-Validation\n",
    "cf2 =KFold(n_splits =5,shuffle =True,random_state =42)\n",
    "\n",
    "##now I am creating a list to store the evaluation metric \n",
    "prec_score2, reca_score2, f1_sco2 =[],[],[]\n"
   ]
  },
  {
   "cell_type": "code",
   "execution_count": 251,
   "metadata": {},
   "outputs": [],
   "source": [
    "##I created Loop over each train-test spilt\n",
    "for train_data , test_data in cf2.split(X1):\n",
    "    ##Split data into training and test set\n",
    "\n",
    "    X_train2, X_test2 =X1[train_data], X1[test_data]\n",
    "    y_train2, y_test2 =y1.iloc[train_data],y1.iloc[test_data] ##I created this to split the labels \n",
    "\n",
    "\n",
    "    #now we train the Naive Bayes classifier\n",
    "    model2 = MultinomialNB()\n",
    "    \n",
    "    model2.fit(X_train2,y_train2)\n",
    "\n",
    "    ##make prediction on the test set\n",
    "    y_predict2 = model2.predict(X_test2)\n",
    "\n",
    "    ##Evaluate precision, recall and F1-score\n",
    "\n",
    "    precision_score2,recall_score2,f1_score2,_ = precision_recall_fscore_support(\n",
    "        y_test2,y_predict2, average='macro', zero_division= 0\n",
    "    )"
   ]
  },
  {
   "cell_type": "code",
   "execution_count": 252,
   "metadata": {},
   "outputs": [],
   "source": [
    "\n",
    "\n",
    "prec_score2.append(precision_score)\n",
    "reca_score2.append(recall_score)\n",
    "f1_sco2.append(f1_score)"
   ]
  },
  {
   "cell_type": "code",
   "execution_count": 253,
   "metadata": {},
   "outputs": [
    {
     "name": "stdout",
     "output_type": "stream",
     "text": [
      "Average Precision :0.832\n",
      "Average Recall:0.638\n",
      "F_1 Score :0.682\n"
     ]
    }
   ],
   "source": [
    "##now we are going to calculate and display the average metric among the 5 folds\n",
    "print(f\"Average Precision :{sum(prec_score2)/len(prec_score2):.3f}\")\n",
    "\n",
    "print(f\"Average Recall:{sum(reca_score2)/len(reca_score2):.3f}\")\n",
    "\n",
    "print(f\"F_1 Score :{sum(f1_sco2)/len(f1_sco2):.3f}\")"
   ]
  }
 ],
 "metadata": {
  "kernelspec": {
   "display_name": "base",
   "language": "python",
   "name": "python3"
  },
  "language_info": {
   "codemirror_mode": {
    "name": "ipython",
    "version": 3
   },
   "file_extension": ".py",
   "mimetype": "text/x-python",
   "name": "python",
   "nbconvert_exporter": "python",
   "pygments_lexer": "ipython3",
   "version": "3.8.3"
  }
 },
 "nbformat": 4,
 "nbformat_minor": 2
}
